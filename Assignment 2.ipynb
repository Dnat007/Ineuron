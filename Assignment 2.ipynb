{
 "cells": [
  {
   "cell_type": "markdown",
   "id": "8b8b6dd2",
   "metadata": {},
   "source": [
    "**1. What are the two values of the Boolean data type? How do you write them?**<br>\n",
    "    \n",
    " Answer \n",
    "- The two values are True and False\n",
    "- We write them as True and False"
   ]
  },
  {
   "cell_type": "markdown",
   "id": "bd49094d",
   "metadata": {},
   "source": [
    "<b>2. What are the three different types of Boolean operators?</b></br>\n",
    "\n",
    "Answer \n",
    "- Three different types of Boolean operator are **AND OR NOT**"
   ]
  },
  {
   "cell_type": "markdown",
   "id": "b425ff17",
   "metadata": {},
   "source": [
    "<b> 3. Make a list of each Boolean operator's truth tables (i.e. every possible combination of Boolean values for the operator and what it evaluate ).</b><br>\n",
    "\n",
    "Answer :\n",
    "- Truth Table of **AND** gate (When Both True it will return True else False)\n",
    "   -    True  True  True\n",
    "   -    True  False False\n",
    "   -    False True  False\n",
    "   -    False False False\n",
    "- Truth Table of **OR** gate (When Both False it will return False else True)\n",
    "   -    True  True  True\n",
    "   -    True  False True\n",
    "   -    False True  True\n",
    "   -    False False False\n",
    "- Truth Table of **NOT** gate (It always reverse the decision if True is there it will return False and vice versa)\n",
    "   -    True False\n",
    "   -    False True\n"
   ]
  },
  {
   "cell_type": "markdown",
   "id": "cdabc9fc",
   "metadata": {},
   "source": [
    "<b>4. What are the values of the following expressions?</b></br>\n",
    "\n",
    "Answer:\n",
    "- **(5 > 4) and (3 == 5)** &emsp; return False\n",
    "- **not (5 > 4)**          &emsp;         return False\n",
    "- **(5 > 4) or (3 == 5)**  &emsp;         return True\n",
    "- **not ((5 > 4) or (3 == 5))**  &emsp;   return True\n",
    "- **(True and True) and (True == False)** &emsp; return False\n",
    "- **(not False) or (not True)**   &emsp;  return True"
   ]
  },
  {
   "cell_type": "markdown",
   "id": "59cc3cad",
   "metadata": {},
   "source": [
    "<b>5. What are the six comparison operators?</b><br>\n",
    "Answer :\n",
    "- Greater than (>)\n",
    "- less than (<)\n",
    "- Greater than equal to (>=)\n",
    "- less than equal to (<=)\n",
    "- not equal to (!=)\n",
    "- double eual to (==)"
   ]
  },
  {
   "cell_type": "markdown",
   "id": "45091d9e",
   "metadata": {},
   "source": [
    "<b>6. How do you tell the difference between the equal to and assignment operators?Describe a\n",
    "condition and when you would use one.</b><br>\n",
    "Answer:\n",
    "\n",
    "- Assignment operator is (=) . It is used to assign a value to a variable\n",
    "- equal to operator is (==). It is used to compare the two values\n",
    "\n",
    "- Eg- a = 10 here we assign the value 10 to a variable\n",
    "- a==10 here we compare that the value of a is 10 or not\n"
   ]
  },
  {
   "cell_type": "markdown",
   "id": "d234e1d8",
   "metadata": {},
   "source": [
    "<b>7. Identify the three blocks in this code:<br>\n",
    "spam = 0<br>\n",
    "if spam == 10:<br>\n",
    "print('eggs')<br>\n",
    "if spam > 5:<br>\n",
    "print('bacon')<br>\n",
    "else:<br>\n",
    "print('ham')<br>\n",
    "print('spam')<br>\n",
    "print('spam')</b>\n",
    "\n",
    "Answer:\n",
    "- here there blocks are given 2 if condition and one else condition\n",
    "- we have assign the spam variable with 0\n",
    "- now when it comes to first if block it will give result as False and that part will not executed\n",
    "- now when it comes to second if block it will again gave us False and that part will not executed\n",
    "- now when it comes to third block else now it will run and print all the statement and gave the result as **hamspamspam**"
   ]
  },
  {
   "cell_type": "code",
   "execution_count": 1,
   "id": "b74e3027",
   "metadata": {},
   "outputs": [
    {
     "name": "stdout",
     "output_type": "stream",
     "text": [
      "3\n",
      "Greetings\n"
     ]
    }
   ],
   "source": [
    "# 8 .Write code that prints Hello if 1 is stored in spam, prints Howdy if 2 is stored in spam, and prints\n",
    "# Greetings! if anything else is stored in spam.\n",
    "# Answer\n",
    "spam = int(input())\n",
    "if (spam==1):print(\"hello\")\n",
    "elif (spam ==2):print(\"howdy\")\n",
    "else : print(\"Greetings\")"
   ]
  },
  {
   "cell_type": "markdown",
   "id": "04476770",
   "metadata": {},
   "source": [
    "<b>9.If your programme is stuck in an endless loop, what keys you’ll press?</b><br>\n",
    "Answer\n",
    "- i will press ctrl+c to get out of that cell"
   ]
  },
  {
   "cell_type": "code",
   "execution_count": 2,
   "id": "c1946fed",
   "metadata": {},
   "outputs": [
    {
     "name": "stdout",
     "output_type": "stream",
     "text": [
      "1\n",
      "2\n",
      "3\n",
      "--------------------------------------\n",
      "2\n",
      "4\n",
      "5\n"
     ]
    }
   ],
   "source": [
    "# <b>10. How can you tell the difference between break and continue?</b><br>\n",
    "# Answer\n",
    "# break is a keyword and it is used to terminate the loop at a specific condition , if that condition occur then the loop will be terminated\n",
    "# Continue is a  keyword that is used to pass the specific condition if that condition arises then the loop will not stuck in that case or the looping process would not stop\n",
    "# eg- \n",
    "spam = 1\n",
    "while spam < 6:\n",
    "    print(spam)\n",
    "    if spam == 3:\n",
    "        break\n",
    "    spam += 1\n",
    "print('--------------------------------------')    \n",
    "a=1\n",
    "while(a<5):\n",
    "    a+=1\n",
    "    if a==3:\n",
    "        continue\n",
    "    print(a)\n"
   ]
  },
  {
   "cell_type": "markdown",
   "id": "1ba153fc",
   "metadata": {},
   "source": [
    "<b>11. In a for loop, what is the difference between range(10), range(0, 10), and range(0, 10, 1)?</b><br>\n",
    "Answer:\n",
    "- There is no difference between these 3 \n",
    "- because range(10) will gave you the lower bound 0 and upper bound as 10 and will print all values from 0 to 9 with the increment of 1\n",
    "- range(0,10) will also print the values from 1- 9 \n",
    "- range(0,10,1) will also print the value form 1-9 "
   ]
  },
  {
   "cell_type": "code",
   "execution_count": 3,
   "id": "74aad42e",
   "metadata": {},
   "outputs": [
    {
     "name": "stdout",
     "output_type": "stream",
     "text": [
      "1\n",
      "2\n",
      "3\n",
      "4\n",
      "5\n",
      "6\n",
      "7\n",
      "8\n",
      "9\n",
      "10\n",
      "--------------using while loop--------------\n",
      "1\n",
      "2\n",
      "3\n",
      "4\n",
      "5\n",
      "6\n",
      "7\n",
      "8\n",
      "9\n",
      "10\n"
     ]
    }
   ],
   "source": [
    "# 12. Write a short program that prints the numbers 1 to 10 using a for loop. Then write an equivalent\n",
    "# program that prints the numbers 1 to 10 using a while loop.\n",
    "# Answer\n",
    "for i in range(1,11):\n",
    "    print(i)\n",
    "print(\"--------------using while loop--------------\")\n",
    "a=1\n",
    "while(a<=10):\n",
    "    print(a)\n",
    "    a+=1"
   ]
  },
  {
   "cell_type": "markdown",
   "id": "4b6f0145",
   "metadata": {},
   "source": [
    "<b>13. If you had a function named bacon() inside a module named spam, how would you call it after\n",
    "importing spam?</b><br>\n",
    "\n",
    "Answer: <b>spam.bacon()"
   ]
  }
 ],
 "metadata": {
  "kernelspec": {
   "display_name": "Python 3 (ipykernel)",
   "language": "python",
   "name": "python3"
  },
  "language_info": {
   "codemirror_mode": {
    "name": "ipython",
    "version": 3
   },
   "file_extension": ".py",
   "mimetype": "text/x-python",
   "name": "python",
   "nbconvert_exporter": "python",
   "pygments_lexer": "ipython3",
   "version": "3.9.7"
  }
 },
 "nbformat": 4,
 "nbformat_minor": 5
}
