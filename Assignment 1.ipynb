{
 "cells": [
  {
   "cell_type": "markdown",
   "id": "a6a647cc",
   "metadata": {},
   "source": [
    "#### 1. In the below elements which of them are values or an expression? eg:- values can beinteger or string and expressions will be mathematical operators.\n",
    "- *\n",
    "- 'hello'\n",
    "- -87.8\n",
    "- -\n",
    "- /\n",
    "- +\n",
    "- 6\n",
    "\n",
    "Answer = *,/,+,- are the expression\n",
    "        and -87.8 ,6, 'hello' are the values"
   ]
  },
  {
   "cell_type": "markdown",
   "id": "c51823b0",
   "metadata": {},
   "source": [
    "#### 2 . What is the difference between string and variable?\n",
    "\n",
    "- Answer = Variable are used to store data whatever the data type of that variable\n",
    "         While strings were the datatype that can be store to a variable , String always written in double quotes(\"\") r single quotes('')\n",
    "         \n",
    "- Eg -  a = \"abhishek\"\n",
    "- here a is the variable and \"abhishek\" is the string\n"
   ]
  },
  {
   "cell_type": "markdown",
   "id": "9c240f03",
   "metadata": {},
   "source": [
    "#### 3. Describe three different data types.\n",
    "\n",
    "- Answer = In python we have different datatype like in integer, float,list set tuple dictionary etc 3 datatypes with explaination are\n",
    "         \n",
    "**a - Dictionary :**\n",
    "- symbol of dictionary is {} we have to gave key-value in between them.\n",
    "- It store the key value pairs.\n",
    "- We can have the same values of different key but not the same keys to different values (i.e we have to assign different keys to different values)\n",
    "- Dictionaries are the mutable in nature (once the dictionary is created we can add more key value pair we can change the values of a key or we can remove the key value pair from the dictionary )\n",
    "         \n",
    "**b - List :** \n",
    "- Symbol of list is [] we have to gave the values in between them\n",
    "- It is hetrogenous in nature(i.e it can store different different datatypes)\n",
    "- List is also mutuable in nature  \n",
    "         \n",
    "**c - Tuples:**\n",
    "- Symbol of the tuple is () we have to gave the values in between them\n",
    "- It is also hetrogenous in nature\n",
    "- Tuples are immutable in nature(i.e we can't do add r delete operation in that also we cant able to change the values in the tuple)"
   ]
  },
  {
   "cell_type": "markdown",
   "id": "4a230875",
   "metadata": {},
   "source": [
    "#### 4. What is an expression made up of? What do all expressions do?\n",
    "\n",
    "Answer = \n",
    "- Expression is a combination of values and operators\n",
    "- All expression gave us a single value"
   ]
  },
  {
   "cell_type": "markdown",
   "id": "bab5d11a",
   "metadata": {},
   "source": [
    "#### 5. This assignment statements, like spam = 10. What is the difference between an expression and a statement?\n",
    "\n",
    "Answer = \n",
    "- expression gave us a single value while statement doesn't gave us the single value\n",
    "- statement in used for creating variables or for displaying value while expression is not for creating variables"
   ]
  },
  {
   "cell_type": "markdown",
   "id": "51a0acb0",
   "metadata": {},
   "source": [
    "#### 6. After running the following code, what does the variable bacon contain?\n",
    "#### bacon = 22\n",
    "#### bacon + 1\n",
    "\n",
    "- Answer = \n",
    "22\n",
    "(initial value of bacon is 22 after that we had added 1 to it the result should have to                became 23 but because the second line bacon+1 is not assign to the bacon variable so the              result would be 22)"
   ]
  },
  {
   "cell_type": "markdown",
   "id": "bec88713",
   "metadata": {},
   "source": [
    "#### 7. What should the values of the following two terms be?\n",
    "#### 'spam' + 'spamspam'\n",
    "#### 'spam' * 3\n",
    "\n",
    "Answer \n",
    "- firstly it will spamspamsapm (3 times spam will be printed without a space because we just            add two strings over here)\n",
    "- secondly it will again print spamspamsapm(here we call spam word three time)"
   ]
  },
  {
   "cell_type": "markdown",
   "id": "906ef7cb",
   "metadata": {},
   "source": [
    "#### 8. Why is eggs a valid variable name while 100 is invalid?\n",
    "\n",
    "Answer  \n",
    "- eggs is not a keyword also we have successfully understood about the nameing convention in            python\n",
    "- 100 is not a valid variable name because it start with a number \n",
    "- in python a variable name can't start from a number"
   ]
  },
  {
   "cell_type": "markdown",
   "id": "0f3a80c2",
   "metadata": {},
   "source": [
    "#### 9. What three functions can be used to get the integer, floating-point number, or string version of a value?\n",
    "\n",
    "Answer = \n",
    "- to get integer we use int()\n",
    "- to get floating-point number we use float()\n",
    "- to get string we use str()"
   ]
  },
  {
   "cell_type": "markdown",
   "id": "81dffbd3",
   "metadata": {},
   "source": [
    "#### 10. Why does this expression cause an error? How can you fix it?\n",
    "'I have eaten' + 99 + 'burritos'\n",
    "\n",
    "Answer = because over here we try to add a integer value with a str we have to convert it in a string          first then only we can add the 99 after the string\n",
    "ex- 'I have eaten' + str(99) + 'burritos'"
   ]
  },
  {
   "cell_type": "code",
   "execution_count": null,
   "id": "69d4dbaa",
   "metadata": {},
   "outputs": [],
   "source": []
  }
 ],
 "metadata": {
  "kernelspec": {
   "display_name": "Python 3 (ipykernel)",
   "language": "python",
   "name": "python3"
  },
  "language_info": {
   "codemirror_mode": {
    "name": "ipython",
    "version": 3
   },
   "file_extension": ".py",
   "mimetype": "text/x-python",
   "name": "python",
   "nbconvert_exporter": "python",
   "pygments_lexer": "ipython3",
   "version": "3.9.7"
  }
 },
 "nbformat": 4,
 "nbformat_minor": 5
}
