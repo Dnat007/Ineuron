{
 "cells": [
  {
   "cell_type": "markdown",
   "id": "891a7ecc",
   "metadata": {},
   "source": [
    "# 1. In Python, what is the difference between a built-in function and a user-defined function? Provide an example of each."
   ]
  },
  {
   "cell_type": "markdown",
   "id": "5a32ec06",
   "metadata": {},
   "source": [
    "Ans.Built-in Function: Built-in functions are the pre-defined function in Python that can be directly used.like print(). User-Defined Function: They are not pre-defined functions. The user creates their own function to fulfill their specific needs.example-"
   ]
  },
  {
   "cell_type": "code",
   "execution_count": 2,
   "id": "4168ec9b",
   "metadata": {},
   "outputs": [
    {
     "name": "stdout",
     "output_type": "stream",
     "text": [
      "8\n"
     ]
    }
   ],
   "source": [
    "def add_numbers(a, b):\n",
    "    return a + b\n",
    "\n",
    "result = add_numbers(3, 5)\n",
    "print(result)  "
   ]
  },
  {
   "cell_type": "markdown",
   "id": "e7a548fa",
   "metadata": {},
   "source": [
    " # 2. How can you pass arguments to a function in Python? Explain the difference between positional arguments and keyword arguments."
   ]
  },
  {
   "cell_type": "markdown",
   "id": "6bef81ad",
   "metadata": {},
   "source": [
    "Arguments are specified after the function name, inside the parentheses. You can add as many arguments as you want, just separate them with a comma."
   ]
  },
  {
   "cell_type": "markdown",
   "id": "437abb1e",
   "metadata": {},
   "source": [
    "A positional argument is a name that is not followed by an equal sign (=) and default value. A keyword argument is followed by an equal sign and an expression that gives its default value."
   ]
  },
  {
   "cell_type": "markdown",
   "id": "278c52c1",
   "metadata": {},
   "source": [
    "# 3. What is the purpose of the return statement in a function? Can a function have multiple return statements? Explain with an example."
   ]
  },
  {
   "cell_type": "markdown",
   "id": "dae06d40",
   "metadata": {},
   "source": [
    "Ans.A return statement ends the execution of a function, and returns control to the calling function. Execution resumes in the calling function at the point immediately following the call."
   ]
  },
  {
   "cell_type": "markdown",
   "id": "cdd038e0",
   "metadata": {},
   "source": [
    "A function can have more than one return statement, but only ever run one based on a condition."
   ]
  },
  {
   "cell_type": "code",
   "execution_count": 12,
   "id": "e5d42979",
   "metadata": {},
   "outputs": [
    {
     "name": "stdout",
     "output_type": "stream",
     "text": [
      "B\n"
     ]
    }
   ],
   "source": [
    "def get_grade(percentage):\n",
    "    if percentage >= 85:\n",
    "        return \"A\"\n",
    "    elif percentage >= 50:\n",
    "        return \"B\"\n",
    "    elif percentage >= 70:\n",
    "        return \"C\"\n",
    "    else:\n",
    "        return \"F\"\n",
    "\n",
    "grade = get_grade(55)\n",
    "print(grade) "
   ]
  },
  {
   "cell_type": "markdown",
   "id": "9086d5ca",
   "metadata": {},
   "source": [
    "# 4. What are lambda functions in Python? How are they different from regular functions? Provide an example where a lambda function can be useful."
   ]
  },
  {
   "cell_type": "markdown",
   "id": "cfd91cee",
   "metadata": {},
   "source": [
    "Ans.A lambda function is an anonymous function in Python that is defined using the lambda \n",
    "keyword. It is a shorthand way to create small, one-line functions without explicitly defining \n",
    "a function using def."
   ]
  },
  {
   "cell_type": "markdown",
   "id": "5d61fb3f",
   "metadata": {},
   "source": [
    "they are the function which take multiple arguments but they have only one expression like other function they have multiple expression that's lambda function are called anonymous function. "
   ]
  },
  {
   "cell_type": "code",
   "execution_count": 16,
   "id": "ad821748",
   "metadata": {},
   "outputs": [
    {
     "name": "stdout",
     "output_type": "stream",
     "text": [
      "25\n",
      "25\n"
     ]
    }
   ],
   "source": [
    "\n",
    "def square(x):\n",
    "     return x**2\n",
    "\n",
    "# Using a lambda function to square a number\n",
    "square_lambda = lambda x: x**2\n",
    "\n",
    "print(square(5))          \n",
    "print(square_lambda(5)) "
   ]
  },
  {
   "cell_type": "code",
   "execution_count": 22,
   "id": "08920388",
   "metadata": {},
   "outputs": [
    {
     "name": "stdout",
     "output_type": "stream",
     "text": [
      "[1, 4, 9, 16, 25, 81, 64]\n"
     ]
    }
   ],
   "source": [
    "numbers = [1, 2, 3, 4, 5, 9, 8]\n",
    "square_numbers = list(map(lambda x: x**2, numbers))\n",
    "print(squared_numbers)  "
   ]
  },
  {
   "cell_type": "markdown",
   "id": "3dd36901",
   "metadata": {},
   "source": [
    "# 5. How does the concept of \"scope\" apply to functions in Python? Explain the difference between local scope and global scope."
   ]
  },
  {
   "cell_type": "markdown",
   "id": "fa4e92f0",
   "metadata": {},
   "source": [
    "Ans. This Python scope contains the names that you define inside the function. \n",
    "\n"
   ]
  },
  {
   "cell_type": "markdown",
   "id": "b36da59f",
   "metadata": {},
   "source": [
    "Local scope - a variable created inside a function belongs to the local scope of that function and can only be used inside that function.ex-"
   ]
  },
  {
   "cell_type": "code",
   "execution_count": 30,
   "id": "ff9f914d",
   "metadata": {},
   "outputs": [
    {
     "name": "stdout",
     "output_type": "stream",
     "text": [
      "200\n"
     ]
    }
   ],
   "source": [
    "def my_fun(): # local variable\n",
    "    x = 200\n",
    "    print(x)\n",
    "my_fun()    "
   ]
  },
  {
   "cell_type": "markdown",
   "id": "d0f50331",
   "metadata": {},
   "source": [
    "Global Scope: Variables defined outside any function or at the top level of a module have a global scope. They are accessible from any part of the program, including inside functions. Global variables persist throughout the execution of the program.ex-"
   ]
  },
  {
   "cell_type": "code",
   "execution_count": 29,
   "id": "e5f9dd46",
   "metadata": {},
   "outputs": [
    {
     "name": "stdout",
     "output_type": "stream",
     "text": [
      "100\n",
      "100\n"
     ]
    }
   ],
   "source": [
    "x = 100    # Global variable\n",
    "\n",
    "def my_function():\n",
    "    print(x)   \n",
    "\n",
    "my_function()\n",
    "print(x)    "
   ]
  },
  {
   "cell_type": "markdown",
   "id": "107680b9",
   "metadata": {},
   "source": [
    "# 6. How can you use the \"return\" statement in a Python function to return multiple values?"
   ]
  },
  {
   "cell_type": "markdown",
   "id": "868635bd",
   "metadata": {},
   "source": [
    "In Python, you can use the return statement in a function to return multiple values by returning them as a tuple, list, or any other iterable data structure. Here are a few ways to achieve this."
   ]
  },
  {
   "cell_type": "code",
   "execution_count": 34,
   "id": "4a0c27e2",
   "metadata": {},
   "outputs": [
    {
     "name": "stdout",
     "output_type": "stream",
     "text": [
      "('shalini', 30, 'USA')\n",
      "shalini\n",
      "30\n",
      "USA\n"
     ]
    }
   ],
   "source": [
    "def person():\n",
    "    name = \"shalini\"\n",
    "    age = 30\n",
    "    country = \"USA\"\n",
    "    return name, age, country\n",
    "\n",
    "person_t =person()\n",
    "print(person_t)                \n",
    "print(person_t[0])              \n",
    "print(person_t[1])             \n",
    "print(person_t[2])   "
   ]
  },
  {
   "cell_type": "markdown",
   "id": "98e1b911",
   "metadata": {},
   "source": [
    "# 7. What is the difference between the \"pass by value\" and \"pass by reference\" concepts when it comes to function arguments in Python?"
   ]
  },
  {
   "cell_type": "markdown",
   "id": "a83d04ac",
   "metadata": {},
   "source": [
    "Ans. so you know how we pass a variable in function like sum = sum (a,b) like this  Now if you are not returning anything in function... Sum will contain none and you wont have your answer and a and b values can not be changed from inside the function this is pass by value.\n",
    "\n",
    "\n",
    "in pass by reference any values that you send in the function can be changed and it will also get changed outside the function."
   ]
  },
  {
   "cell_type": "markdown",
   "id": "53e0e30d",
   "metadata": {},
   "source": [
    "# 8. Create a function that can intake integer or decimal value and do following operations:\n",
    "    a. Logarithmic function (log x)\n",
    "    b. Exponential function (exp(x))\n",
    "    c. Power function with base 2 (2x)\n",
    "    d. Square root"
   ]
  },
  {
   "cell_type": "code",
   "execution_count": 43,
   "id": "ddb57104",
   "metadata": {},
   "outputs": [
    {
     "name": "stdout",
     "output_type": "stream",
     "text": [
      "(0.9162907318741551, 12.182493960703473, 5.656854249492381, 1.5811388300841898)\n",
      "(1.6094379124341003, 148.4131591025766, 32.0, 2.23606797749979)\n"
     ]
    }
   ],
   "source": [
    " import math\n",
    "\n",
    "def perform_operations(number):\n",
    "    # Logarithmic function (log x)\n",
    "    logarithm = math.log(number)\n",
    "    \n",
    "    # Exponential function (exp(x))\n",
    "    exponential = math.exp(number)\n",
    "    \n",
    "    # Power function with base 2 (2^x)\n",
    "    power = math.pow(2, number)\n",
    "    \n",
    "    # Square root\n",
    "    square_root = math.sqrt(number)\n",
    "    \n",
    "    return logarithm, exponential, power, square_root\n",
    "\n",
    "result = perform_operations(2.5)\n",
    "print(result)\n",
    "\n",
    "result = perform_operations(5)\n",
    "print(result)\n",
    "\n",
    "\n",
    "\n",
    "\n",
    "\n",
    "\n",
    "\n"
   ]
  },
  {
   "cell_type": "markdown",
   "id": "fb4f8a85",
   "metadata": {},
   "source": [
    "# 9. Create a function that takes a full name as an argument and returns first name and last name."
   ]
  },
  {
   "cell_type": "code",
   "execution_count": 48,
   "id": "4cd46b39",
   "metadata": {},
   "outputs": [
    {
     "name": "stdout",
     "output_type": "stream",
     "text": [
      "First Name: shalini\n",
      "Last Name: singh\n"
     ]
    }
   ],
   "source": [
    "def get_first_last_name(full_name):\n",
    "    # Split the full name into a list of names\n",
    "    names = full_name.split()\n",
    "    \n",
    "    # Extract the first name and last name\n",
    "    first_name = names[0]\n",
    "    last_name = names[-1]\n",
    "    \n",
    "    return first_name, last_name\n",
    "\n",
    "# Example usage\n",
    "name = \"shalini singh\"\n",
    "first_name, last_name = get_first_last_name(name)\n",
    "print(\"First Name:\", first_name)\n",
    "print(\"Last Name:\", last_name)"
   ]
  },
  {
   "cell_type": "code",
   "execution_count": null,
   "id": "364cf0ee",
   "metadata": {},
   "outputs": [],
   "source": []
  }
 ],
 "metadata": {
  "kernelspec": {
   "display_name": "Python 3 (ipykernel)",
   "language": "python",
   "name": "python3"
  },
  "language_info": {
   "codemirror_mode": {
    "name": "ipython",
    "version": 3
   },
   "file_extension": ".py",
   "mimetype": "text/x-python",
   "name": "python",
   "nbconvert_exporter": "python",
   "pygments_lexer": "ipython3",
   "version": "3.10.9"
  }
 },
 "nbformat": 4,
 "nbformat_minor": 5
}
