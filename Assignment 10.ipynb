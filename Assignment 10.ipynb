{
 "cells": [
  {
   "cell_type": "markdown",
   "id": "9ecf9f13",
   "metadata": {},
   "source": [
    "# 1. What is the role of the 'else' block in a try-except statement? Provide an example scenario where it would be useful."
   ]
  },
  {
   "cell_type": "markdown",
   "id": "9b53f521",
   "metadata": {},
   "source": [
    "Ans. The 'else' block in a try-except statement is optional and is executed only if no exceptions are raised in the try block. Its role is to specify a block of code to be executed when the try block succeeds, providing an alternative flow of execution. It is useful when you want to perform additional actions or calculations that should only occur if the try block completes successfully without any exceptions. For example :"
   ]
  },
  {
   "cell_type": "code",
   "execution_count": 7,
   "id": "1fa5a58a",
   "metadata": {},
   "outputs": [
    {
     "name": "stdout",
     "output_type": "stream",
     "text": [
      "Enter the first number: 4\n",
      "Enter the second number: 2\n",
      "The division result is: 2.0\n"
     ]
    }
   ],
   "source": [
    "try:\n",
    "    num1 = int(input(\"Enter the first number: \"))\n",
    "    num2 = int(input(\"Enter the second number: \"))\n",
    "    result = num1 / num2\n",
    "except ZeroDivisionError:\n",
    "    print(\"Error: Division by zero is not allowed.\")\n",
    "else:\n",
    "    print(\"The division result is:\", result)\n"
   ]
  },
  {
   "cell_type": "markdown",
   "id": "a3848685",
   "metadata": {},
   "source": [
    "# 2. Can a try-except block be nested inside another try-except block? Explain with an example."
   ]
  },
  {
   "cell_type": "markdown",
   "id": "0b62b649",
   "metadata": {},
   "source": [
    "Ans.Yes, nested try-except blocks can be used in Python. This means that you can have a try-except block inside another try block.\n",
    "\n",
    "For example(In this example, if an exception of ExceptionType2 occurs in the inner try block, it will be caught by the inner except block. If an exception of ExceptionType1 occurs in the outer try block or the inner except block, it will be caught by the outer except block)"
   ]
  },
  {
   "cell_type": "code",
   "execution_count": 9,
   "id": "f023c8e0",
   "metadata": {},
   "outputs": [
    {
     "name": "stdout",
     "output_type": "stream",
     "text": [
      "outer try block\n",
      "Inner try block\n"
     ]
    }
   ],
   "source": [
    "try:\n",
    "   print(\"outer try block\")\n",
    "   try:\n",
    "       print(\"Inner try block\")\n",
    "   except ZeroDivisionError:\n",
    "       print(\"Inner except block\")\n",
    "except:\n",
    "   print(\"outer except block\")"
   ]
  },
  {
   "cell_type": "markdown",
   "id": "447bbf44",
   "metadata": {},
   "source": [
    "# 3. How can you create a custom exception class in Python? Provide an example that demonstrates its usage."
   ]
  },
  {
   "cell_type": "markdown",
   "id": "cab0da9c",
   "metadata": {},
   "source": [
    "Ans.In Python, we can create a custom exception class by defining a new class that inherits from the base 'Exception' class or any of its subclasses. Below is an example of creating and using a custom exception class:\n",
    "\n",
    "class CustomException(Exception): pass\n",
    "\n",
    "try: raise CustomException(\"This is a custom exception.\") except CustomException as e: print(\"Custom exception caught:\", e) In this example, we define a new class called 'CustomException' that inherits from the base 'Exception' class. We then raise an instance of this custom exception with a custom error message. The exception is caught in the 'except'block, and we print the exception message."
   ]
  },
  {
   "cell_type": "code",
   "execution_count": 10,
   "id": "bd620d3a",
   "metadata": {},
   "outputs": [
    {
     "name": "stdout",
     "output_type": "stream",
     "text": [
      "My created exception\n",
      "Custom exception caught: This is a custom exception.\n"
     ]
    }
   ],
   "source": [
    "class CustomException(Exception):\n",
    "    print(\"My created exception\")\n",
    "\n",
    "try:\n",
    "    raise CustomException(\"This is a custom exception.\")\n",
    "except CustomException as e:\n",
    "    print(\"Custom exception caught:\", e)"
   ]
  },
  {
   "cell_type": "markdown",
   "id": "4be19fc6",
   "metadata": {},
   "source": [
    "# 4. What are some common exceptions that are built-in to Python?"
   ]
  },
  {
   "cell_type": "markdown",
   "id": "a8d0f8d8",
   "metadata": {},
   "source": [
    "Ans.Python provides several built-in exceptions that cover common error scenarios. Some common built-in exceptions include:\n",
    "\n",
    "'ZeroDivisionError': Raised when division or modulo operation is performed with zero as the divisor. 'ValueError': Raised when a function receives an argument of the correct type but with an invalid value. 'TypeError': Raised when an operation or function is applied to an object of an inappropriate type. 'IndexError': Raised when an index is out of range for a sequence (e.g., list, tuple, string). 'FileNotFoundError': Raised when a file or directory is requested but cannot be found. 'KeyError': Raised when a dictionary key is not found. 'NameError': Raised when a local or global name is not found. 'IOError': Raised when an I/O operation (e.g., reading or writing to a file) fails."
   ]
  },
  {
   "cell_type": "markdown",
   "id": "756e9cb9",
   "metadata": {},
   "source": [
    "# 5. What is logging in Python, and why is it important in software development?"
   ]
  },
  {
   "cell_type": "markdown",
   "id": "eb048a51",
   "metadata": {},
   "source": [
    "Ans.Logging in Python is a mechanism that allows developers to record events, messages, and errors that occur during the execution of a program. It provides a way to collect and store valuable information about the program's behavior, making it easier to debug issues, monitor application performance, and analyze runtime behavior. Logging is important in software development because it offers a more structured and flexible approach compared to using print statements for debugging. It allows you to control the level of detail and destination of log messages, making it suitable for different environments and scenarios."
   ]
  },
  {
   "cell_type": "markdown",
   "id": "ebfca33f",
   "metadata": {},
   "source": [
    "# 6. Explain the purpose of log levels in Python logging and provide examples of when each log level would be appropriate."
   ]
  },
  {
   "cell_type": "markdown",
   "id": "05f7710f",
   "metadata": {},
   "source": [
    "Ans.Log levels in Python logging define the severity or importance of a log message. There are several log levels available, including:\n",
    "\n",
    "'DEBUG': Detailed information, typically useful for debugging purposes. 'INFO': General information about the program's execution. 'WARNING': Indicates a potential issue or warning that does not prevent the program from running. 'ERROR': Indicates a more severe error or problem that affects the program's functionality. 'CRITICAL': Indicates a critical error or failure that may cause the program to terminate. The purpose of log levels is to provide a way to filter and prioritize log messages based on their severity. Developers can set the desired log level, and only log messages with an equal or higher level will be recorded. For example:\n",
    "\n",
    "import logging\n",
    "\n",
    "Set the log level to INFO\n",
    "logging.basicConfig(level=logging.INFO)\n",
    "\n",
    "Log messages\n",
    "logging.debug(\"This is a debug message\") logging.info(\"This is an info message\") logging.warning(\"This is a warning message\") logging.error(\"This is an error message\") logging.critical(\"This is a critical message\")\n",
    "\n",
    "In this example, since the log level is set to INFO, only log messages with an equal or higher level (INFO, WARNING, ERROR, CRITICAL) will be recorded. DEBUG messages will be ignored."
   ]
  },
  {
   "cell_type": "markdown",
   "id": "cf1e4216",
   "metadata": {},
   "source": [
    "# 7. What are log formatters in Python logging, and how can you customise the log message format using formatters?"
   ]
  },
  {
   "cell_type": "markdown",
   "id": "36438f8a",
   "metadata": {},
   "source": [
    "Ans.Log formatters in Python logging define the format of log messages when they are recorded. They allow customization of the log message structure, including the timestamp, log level, module name, and the actual log message content. By default, the logging module uses a basic formatter that includes the log level and the log message. However, we can customize the log message format using formatters.\n",
    "\n",
    "Here's an example:\n",
    "\n",
    "import logging\n",
    "\n",
    "Create a formatter\n",
    "formatter = logging.Formatter(\"%(asctime)s - %(levelname)s - %(message)s\")\n",
    "\n",
    "Create a handler and set the formatter\n",
    "handler = logging.StreamHandler() handler.setFormatter(formatter)\n",
    "\n",
    "Create a logger and add the handler\n",
    "logger = logging.getLogger() logger.addHandler(handler)\n",
    "\n",
    "Log a message\n",
    "logger.info(\"This is a custom log message\") In this example, we create a formatter using the logging.Formatter class and specify the desired log message format. Then, we create a handler (in this case, a StreamHandler that sends log messages to the console) and set the formatter on the handler. Finally, we create a logger, add the handler to it, and log a message using the customized log message format."
   ]
  },
  {
   "cell_type": "code",
   "execution_count": 11,
   "id": "758e4794",
   "metadata": {},
   "outputs": [],
   "source": [
    "import logging\n",
    "\n",
    "# Create a formatter\n",
    "formatter = logging.Formatter(\"%(asctime)s - %(levelname)s - %(message)s\")\n",
    "\n",
    "# Create a handler and set the formatter\n",
    "handler = logging.StreamHandler()\n",
    "handler.setFormatter(formatter)\n",
    "\n",
    "# Create a logger and add the handler\n",
    "logger = logging.getLogger()\n",
    "logger.addHandler(handler)\n",
    "\n",
    "# Log a message\n",
    "logger.info(\"This is a custom log message\")"
   ]
  },
  {
   "cell_type": "markdown",
   "id": "b97cdffb",
   "metadata": {},
   "source": [
    "# 8. How can you set up logging to capture log messages from multiple modules or classes in a Python application?"
   ]
  },
  {
   "cell_type": "markdown",
   "id": "4850c6b5",
   "metadata": {},
   "source": [
    "Ans.o capture log messages from multiple modules or classes in a Python application, we can configure a logger with a file handler that writes log messages to a specific log file.\n",
    "\n",
    "Here's an example:\n",
    "\n",
    "import logging\n",
    "\n",
    "Configure logger\n",
    "logger = logging.getLogger() logger.setLevel(logging.INFO)\n",
    "\n",
    "Create a file handler\n",
    "file_handler = logging.FileHandler(\"app.log\")\n",
    "\n",
    "Create a formatter and set it on the file handler\n",
    "formatter = logging.Formatter(\"%(asctime)s - %(levelname)s - %(message)s\") file_handler.setFormatter(formatter)\n",
    "\n",
    "Add the file handler to the logger\n",
    "logger.addHandler(file_handler)\n",
    "\n",
    "Log messages\n",
    "logger.info(\"Log message from module A\") logger.info(\"Log message from module B\")\n",
    "\n",
    "In this example, we configure the logger to log messages with an INFO level or above. We create a FileHandler and specify the log file name as \"app.log\". Then, we create a formatter and set it on the file handler. Finally, we add the file handler to the logger. Now, any log messages with an INFO level or above will be recorded in the \"app.log\" file."
   ]
  },
  {
   "cell_type": "code",
   "execution_count": 12,
   "id": "6aebd533",
   "metadata": {},
   "outputs": [
    {
     "name": "stderr",
     "output_type": "stream",
     "text": [
      "2023-08-12 19:04:22,210 - INFO - Log message from module A\n",
      "2023-08-12 19:04:22,212 - INFO - Log message from module B\n"
     ]
    }
   ],
   "source": [
    "import logging\n",
    "\n",
    "# Configure logger\n",
    "logger = logging.getLogger()\n",
    "logger.setLevel(logging.INFO)\n",
    "\n",
    "# Create a file handler\n",
    "file_handler = logging.FileHandler(\"app.log\")\n",
    "\n",
    "# Create a formatter and set it on the file handler\n",
    "formatter = logging.Formatter(\"%(asctime)s - %(levelname)s - %(message)s\")\n",
    "file_handler.setFormatter(formatter)\n",
    "\n",
    "# Add the file handler to the logger\n",
    "logger.addHandler(file_handler)\n",
    "\n",
    "# Log messages\n",
    "logger.info(\"Log message from module A\")\n",
    "logger.info(\"Log message from module B\")"
   ]
  },
  {
   "cell_type": "markdown",
   "id": "0de77489",
   "metadata": {},
   "source": [
    "# 9. What is the difference between the logging and print statements in Python? When should you use logging over print statements in a real-world application?"
   ]
  },
  {
   "cell_type": "markdown",
   "id": "56ecf9f7",
   "metadata": {},
   "source": [
    "Ans.The main difference between logging and print statements in Python is their purpose and flexibility. Logging is designed specifically for recording events, messages, and errors during the execution of a program, while print statements are primarily used for outputting data or debugging information during development. Listed are some situations where logging is preferred over print statements in a real-world application:\n",
    "\n",
    "In production environments, print statements may clutter the output or interfere with the application's normal functioning. Logging provides a structured and controlled way to capture relevant information without affecting the program's output. With logging, we can control the level of detail recorded based on the severity of the message. This allows us to fine-tune the information logged, making it easier to identify and analyze issues. Logging provides a centralized mechanism for collecting and storing log messages, which can be essential for troubleshooting and post-mortem analysis. Log messages can be directed to different destinations (e.g., console, file, remote server) and can be easily configured or disabled without modifying the code. The logging module offers powerful features such as log levels, handlers, filters, and formatters, which allow you to customize and control the behavior of log messages based on specific requirements."
   ]
  },
  {
   "cell_type": "markdown",
   "id": "2895eacc",
   "metadata": {},
   "source": [
    "# 10. Write a Python program that logs a message to a file named \"app.log\" with the following requirements:\n",
    "\n",
    "● The log message should be \"Hello, World!\"\n",
    "\n",
    "● The log level should be set to \"INFO.\"\n",
    "\n",
    "● The log file should append new log entries without overwriting previous ones."
   ]
  },
  {
   "cell_type": "code",
   "execution_count": 14,
   "id": "34deede2",
   "metadata": {},
   "outputs": [
    {
     "name": "stderr",
     "output_type": "stream",
     "text": [
      "2023-08-12 19:07:14,684 - INFO - Hello, World!\n"
     ]
    }
   ],
   "source": [
    "import logging\n",
    "\n",
    "# Configure logger\n",
    "logger = logging.getLogger()\n",
    "logger.setLevel(logging.INFO)\n",
    "\n",
    "# Create a file handler\n",
    "file_handler = logging.FileHandler(\"app.log\")\n",
    "file_handler.setLevel(logging.INFO)\n",
    "\n",
    "# Create a formatter and set it on the file handler\n",
    "formatter = logging.Formatter(\"%(asctime)s - %(levelname)s - %(message)s\")\n",
    "file_handler.setFormatter(formatter)\n",
    "\n",
    "# Add the file handler to the logger\n",
    "logger.addHandler(file_handler)\n",
    "\n",
    "# Log the message\n",
    "logger.info(\"Hello, World!\")"
   ]
  },
  {
   "cell_type": "markdown",
   "id": "f4df9bbf",
   "metadata": {},
   "source": [
    "In this code, we configure the logger to log messages with an INFO level or above. Then, we create a file handler and specify the log file name as \"app.log\". We set the log level of the file handler to INFO to ensure it captures the log message. Next, we create a formatter and set it on the file handler. Finally, we add the file handler to the logger. When the program runs, it logs the message \"Hello, World!\" to the \"app.log\" file."
   ]
  },
  {
   "cell_type": "markdown",
   "id": "91ef1dde",
   "metadata": {},
   "source": [
    "# 11. Create a Python program that logs an error message to the console and a file named \"errors.log\" if an exception occurs during the program's execution. The error message should include the exception type and a timestamp."
   ]
  },
  {
   "cell_type": "code",
   "execution_count": 18,
   "id": "81cbe25b",
   "metadata": {},
   "outputs": [
    {
     "name": "stderr",
     "output_type": "stream",
     "text": [
      "2023-08-12 19:10:21,474 - ERROR - Exception occurred at 2023-08-12 19:10:21: ValueError\n",
      "Traceback (most recent call last):\n",
      "  File \"C:\\Users\\HOME\\AppData\\Local\\Temp\\ipykernel_18496\\2997696257.py\", line 29, in <module>\n",
      "    raise ValueError(\"This is a sample error.\")\n",
      "ValueError: This is a sample error.\n",
      "\n",
      "2023-08-12 19:10:21,474 [ERROR]: Exception occurred at 2023-08-12 19:10:21: ValueError\n",
      "Traceback (most recent call last):\n",
      "  File \"C:\\Users\\HOME\\AppData\\Local\\Temp\\ipykernel_18496\\2997696257.py\", line 29, in <module>\n",
      "    raise ValueError(\"This is a sample error.\")\n",
      "ValueError: This is a sample error.\n",
      "\n",
      "2023-08-12 19:10:21,474 - ERROR - Exception occurred at 2023-08-12 19:10:21: ValueError\n",
      "Traceback (most recent call last):\n",
      "  File \"C:\\Users\\HOME\\AppData\\Local\\Temp\\ipykernel_18496\\2997696257.py\", line 29, in <module>\n",
      "    raise ValueError(\"This is a sample error.\")\n",
      "ValueError: This is a sample error.\n",
      "\n"
     ]
    }
   ],
   "source": [
    "import logging\n",
    "import traceback\n",
    "from datetime import datetime\n",
    "\n",
    "# Configure logger\n",
    "logger = logging.getLogger()\n",
    "logger.setLevel(logging.ERROR)\n",
    "\n",
    "# Create a console handler\n",
    "console_handler = logging.StreamHandler()\n",
    "console_handler.setLevel(logging.ERROR)\n",
    "\n",
    "# Create a file handler\n",
    "file_handler = logging.FileHandler(\"errors.log\")\n",
    "file_handler.setLevel(logging.ERROR)\n",
    "\n",
    "# Create a formatter and set it on the handlers\n",
    "formatter = logging.Formatter(\"%(asctime)s - %(levelname)s - %(message)s\")\n",
    "console_handler.setFormatter(formatter)\n",
    "file_handler.setFormatter(formatter)\n",
    "\n",
    "# Add the handlers to the logger\n",
    "logger.addHandler(console_handler)\n",
    "logger.addHandler(file_handler)\n",
    "\n",
    "try:\n",
    "    # Code that may raise an exception\n",
    "    # ...\n",
    "    raise ValueError(\"This is a sample error.\")\n",
    "except Exception as e:\n",
    "    # Log the exception with traceback\n",
    "    exception_type = type(e).__name__\n",
    "    timestamp = datetime.now().strftime(\"%Y-%m-%d %H:%M:%S\")\n",
    "    logger.error(f\"Exception occurred at {timestamp}: {exception_type}\\n{traceback.format_exc()}\")"
   ]
  },
  {
   "cell_type": "markdown",
   "id": "9dc889f7",
   "metadata": {},
   "source": [
    "n this code, we configure the logger to capture ERROR level messages. We create a console handler and a file handler, both set to the ERROR level. Then, we create a formatter and set it on both handlers. Finally, we add the handlers to the logger.\n",
    "\n",
    "Inside the try-except block, we raise a ValueError as an example of an exception occurring. If any exception occurs, we log the exception message, type, and traceback using the logger's error method. The log message includes the current timestamp, exception type, and the formatted traceback.\n",
    "\n",
    "This program will log the error message to both the console and the \"errors.log\" file, providing a record of the exception and traceback information for further analysis."
   ]
  },
  {
   "cell_type": "code",
   "execution_count": null,
   "id": "0d2aa3cd",
   "metadata": {},
   "outputs": [],
   "source": []
  }
 ],
 "metadata": {
  "kernelspec": {
   "display_name": "Python 3 (ipykernel)",
   "language": "python",
   "name": "python3"
  },
  "language_info": {
   "codemirror_mode": {
    "name": "ipython",
    "version": 3
   },
   "file_extension": ".py",
   "mimetype": "text/x-python",
   "name": "python",
   "nbconvert_exporter": "python",
   "pygments_lexer": "ipython3",
   "version": "3.10.9"
  }
 },
 "nbformat": 4,
 "nbformat_minor": 5
}
