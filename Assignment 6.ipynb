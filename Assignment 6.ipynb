{
 "cells": [
  {
   "cell_type": "markdown",
   "id": "7033505f",
   "metadata": {},
   "source": [
    "<b>Q.1. What are keywords in python? Using the keyword library, print all the python keywords."
   ]
  },
  {
   "cell_type": "code",
   "execution_count": 1,
   "id": "c67fa6a8",
   "metadata": {},
   "outputs": [
    {
     "data": {
      "text/plain": [
       "['False',\n",
       " 'None',\n",
       " 'True',\n",
       " '__peg_parser__',\n",
       " 'and',\n",
       " 'as',\n",
       " 'assert',\n",
       " 'async',\n",
       " 'await',\n",
       " 'break',\n",
       " 'class',\n",
       " 'continue',\n",
       " 'def',\n",
       " 'del',\n",
       " 'elif',\n",
       " 'else',\n",
       " 'except',\n",
       " 'finally',\n",
       " 'for',\n",
       " 'from',\n",
       " 'global',\n",
       " 'if',\n",
       " 'import',\n",
       " 'in',\n",
       " 'is',\n",
       " 'lambda',\n",
       " 'nonlocal',\n",
       " 'not',\n",
       " 'or',\n",
       " 'pass',\n",
       " 'raise',\n",
       " 'return',\n",
       " 'try',\n",
       " 'while',\n",
       " 'with',\n",
       " 'yield']"
      ]
     },
     "execution_count": 1,
     "metadata": {},
     "output_type": "execute_result"
    }
   ],
   "source": [
    "# Ans: \n",
    "#     Keywords are the reserve words in the python they have their predefine function in that words \n",
    "#     They can't be used by us in the programming as a variable\n",
    "\n",
    "import keyword\n",
    "s= keyword.kwlist\n",
    "s"
   ]
  },
  {
   "cell_type": "markdown",
   "id": "c5b7c8c1",
   "metadata": {},
   "source": [
    "<b>Q.2. What are the rules to create variables in python?"
   ]
  },
  {
   "cell_type": "markdown",
   "id": "1b650257",
   "metadata": {},
   "source": [
    "Ans : \n",
    "-  A variable can't be start with a special character except '_'(underscore)\n",
    "-  A variable cannot be start with a number<br>\n",
    "-  A variable cannot have spaces in that<br>\n",
    "-  A variable name cannot have the same as a keyword name<br>\n",
    "-  A variable name is case sensitive<br>"
   ]
  },
  {
   "cell_type": "markdown",
   "id": "cce85230",
   "metadata": {},
   "source": [
    "<b>Q.3. What are the standards and conventions followed for the nomenclature of variables in\n",
    "python to improve code readability and maintainability?"
   ]
  },
  {
   "cell_type": "markdown",
   "id": "66e5ca56",
   "metadata": {},
   "source": [
    "- In Python names are used as identifiers of functions, classes, variables, etc…. <br>\n",
    "- Identifiers must start with a Letter (A-Z) or an underscore, followed by more letters or number <br>\n",
    "- Python does not allow characters such as @, $, and % within identifier names "
   ]
  },
  {
   "cell_type": "markdown",
   "id": "a81360f1",
   "metadata": {},
   "source": [
    "<b>Q.4. What will happen if a keyword is used as a variable name?"
   ]
  },
  {
   "cell_type": "markdown",
   "id": "600ecd9a",
   "metadata": {},
   "source": [
    "Ans : If we use a keyword as a variable then it shows the error because keyword cannot be use as a vaiable"
   ]
  },
  {
   "cell_type": "markdown",
   "id": "60202db6",
   "metadata": {},
   "source": [
    "<b>Q.5. For what purpose def keyword is used?"
   ]
  },
  {
   "cell_type": "markdown",
   "id": "3c520448",
   "metadata": {},
   "source": [
    "Ans : purpose of def keyword is to create a function whenever neccessary or whenever require"
   ]
  },
  {
   "cell_type": "markdown",
   "id": "f3e1054e",
   "metadata": {},
   "source": [
    "<b>Q.6. What is the operation of this special character ‘\\’?"
   ]
  },
  {
   "cell_type": "markdown",
   "id": "e6ff528a",
   "metadata": {},
   "source": [
    "Ans : It is use as an escape character\n",
    " - if we use \\n then it will take us on the next line\n",
    " - if we use \\t it will gave the tab space"
   ]
  },
  {
   "cell_type": "markdown",
   "id": "a38427dd",
   "metadata": {},
   "source": [
    "<b>Q.7. Give an example of the following conditions:<br>\n",
    "(i) Homogeneous list<br>\n",
    "(ii) Heterogeneous set<br>\n",
    "(iii) Homogeneous tuple<br>"
   ]
  },
  {
   "cell_type": "markdown",
   "id": "93c06378",
   "metadata": {},
   "source": [
    "Ans :<br>\n",
    "- Homogenous list : it is the list which contain all the data  of same datatype<br>\n",
    "        eg [1,2,3,45,6,8978] all are the integer type<br>\n",
    "- Hetrogeneous set : It is the set which conatin different type of datatype<br>\n",
    "        eg: {1,2,3,'abhi',67.9} it contain different datatype<br>\n",
    "- Homogeneous tuple : It is the tuple which also contain same datatype <br>\n",
    "        eg : (1,2,3,4,5,6,7,8)"
   ]
  },
  {
   "cell_type": "markdown",
   "id": "fe895c11",
   "metadata": {},
   "source": [
    "<b>Q.8. Explain the mutable and immutable data types with proper explanation & examples."
   ]
  },
  {
   "cell_type": "markdown",
   "id": "8406e092",
   "metadata": {},
   "source": [
    "Ans : <br>\n",
    "- mutable : mutable are those where we can able to change the values of object without changing them<br> \n",
    "we can able to add r remove the values\n",
    "           eg : list , set, dicitonary\n",
    "- immutable : immuatble are those where we are not able to change the values of object without changing them<br>\n",
    "we can't able to add r remove the values \n",
    "           eg : string , tuples"
   ]
  },
  {
   "cell_type": "markdown",
   "id": "8ece7212",
   "metadata": {},
   "source": [
    "<b>Q.9. Write a code to create the given structure using only for loop.<br>"
   ]
  },
  {
   "cell_type": "code",
   "execution_count": 2,
   "id": "3dac502e",
   "metadata": {},
   "outputs": [
    {
     "name": "stdout",
     "output_type": "stream",
     "text": [
      "      *\n",
      "     ***\n",
      "    *****\n",
      "   *******\n",
      "  *********\n"
     ]
    }
   ],
   "source": [
    "#     *\n",
    "#    ***\n",
    "#   *****\n",
    "#  *******\n",
    "# *********\n",
    "n=5\n",
    "for i in range(n):\n",
    "    print(' '*(n-i),'*'*(i*2+1) )"
   ]
  },
  {
   "cell_type": "markdown",
   "id": "52f5a8ce",
   "metadata": {},
   "source": [
    "<b>Q.10. Write a code to create the given structure using while loop.<br>"
   ]
  },
  {
   "cell_type": "code",
   "execution_count": 3,
   "id": "b2ac71ee",
   "metadata": {},
   "outputs": [
    {
     "name": "stdout",
     "output_type": "stream",
     "text": [
      " |||||||||\n",
      "  |||||||\n",
      "   |||||\n",
      "    |||\n",
      "     |\n"
     ]
    }
   ],
   "source": [
    "# |||||||||\n",
    "#  |||||||\n",
    "#   |||||\n",
    "#    |||\n",
    "#     |\n",
    "n=5\n",
    "i=0\n",
    "while(n!=0):\n",
    "    print(' '*i,(n*2-1)*'|')\n",
    "    n = n-1\n",
    "    i = i+1"
   ]
  }
 ],
 "metadata": {
  "kernelspec": {
   "display_name": "Python 3 (ipykernel)",
   "language": "python",
   "name": "python3"
  },
  "language_info": {
   "codemirror_mode": {
    "name": "ipython",
    "version": 3
   },
   "file_extension": ".py",
   "mimetype": "text/x-python",
   "name": "python",
   "nbconvert_exporter": "python",
   "pygments_lexer": "ipython3",
   "version": "3.9.7"
  }
 },
 "nbformat": 4,
 "nbformat_minor": 5
}
