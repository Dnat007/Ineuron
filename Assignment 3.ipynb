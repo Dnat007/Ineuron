{
 "cells": [
  {
   "cell_type": "markdown",
   "id": "71f69647",
   "metadata": {},
   "source": [
    "### 1. Why are functions advantageous to have in your programs?"
   ]
  },
  {
   "cell_type": "code",
   "execution_count": 1,
   "id": "bc46a1ff",
   "metadata": {},
   "outputs": [],
   "source": [
    "# Advantage of having function is there is no need of repeating the code i.e., resuability."
   ]
  },
  {
   "cell_type": "markdown",
   "id": "6572ca30",
   "metadata": {},
   "source": [
    "### 2. When does the code in a function run: when it's specified or when it's called?"
   ]
  },
  {
   "cell_type": "code",
   "execution_count": 2,
   "id": "bdd43d41",
   "metadata": {},
   "outputs": [],
   "source": [
    "# The code in a function will run, when it is called."
   ]
  },
  {
   "cell_type": "markdown",
   "id": "3d3623e3",
   "metadata": {},
   "source": [
    "### 3. What statement creates a function?"
   ]
  },
  {
   "cell_type": "code",
   "execution_count": 3,
   "id": "9dc9ca7c",
   "metadata": {},
   "outputs": [],
   "source": [
    "# The 'def' statement is used to create a function\n",
    "def fun(a):\n",
    "    return a"
   ]
  },
  {
   "cell_type": "markdown",
   "id": "869fe97f",
   "metadata": {},
   "source": [
    "### 4. What is the difference between a function and a function call?"
   ]
  },
  {
   "cell_type": "code",
   "execution_count": 4,
   "id": "29bf4610",
   "metadata": {},
   "outputs": [],
   "source": [
    "#1. Function:Contains set of instructions constructed using 'def' statement that can be reused and called multiple times   \n",
    "#   from different parts of a program.\n",
    "#2. Function call:It is used for invoking or executing a function that's has been defined earlier."
   ]
  },
  {
   "cell_type": "markdown",
   "id": "b4c27390",
   "metadata": {},
   "source": [
    "### 5. How many global scopes are there in a Python program? How many local scopes?"
   ]
  },
  {
   "cell_type": "code",
   "execution_count": 5,
   "id": "efc07c67",
   "metadata": {},
   "outputs": [],
   "source": [
    "# There is one global scope and many local scopes in python program."
   ]
  },
  {
   "cell_type": "markdown",
   "id": "a183196f",
   "metadata": {},
   "source": [
    "### 6. What happens to variables in a local scope when the function call returns?"
   ]
  },
  {
   "cell_type": "code",
   "execution_count": 6,
   "id": "a85ab0a8",
   "metadata": {},
   "outputs": [],
   "source": [
    "def func():\n",
    "    x = 30  # Local variable within the function\n",
    "    return x"
   ]
  },
  {
   "cell_type": "code",
   "execution_count": 7,
   "id": "6e3b1951",
   "metadata": {},
   "outputs": [
    {
     "data": {
      "text/plain": [
       "30"
      ]
     },
     "execution_count": 7,
     "metadata": {},
     "output_type": "execute_result"
    }
   ],
   "source": [
    "func()"
   ]
  },
  {
   "cell_type": "code",
   "execution_count": 8,
   "id": "c3570c4e",
   "metadata": {},
   "outputs": [
    {
     "ename": "NameError",
     "evalue": "name 'x' is not defined",
     "output_type": "error",
     "traceback": [
      "\u001b[1;31m---------------------------------------------------------------------------\u001b[0m",
      "\u001b[1;31mNameError\u001b[0m                                 Traceback (most recent call last)",
      "Cell \u001b[1;32mIn[8], line 3\u001b[0m\n\u001b[0;32m      1\u001b[0m \u001b[38;5;66;03m# Raises NameError: name 'x' is not defined (as it is defined inside the function \u001b[39;00m\n\u001b[0;32m      2\u001b[0m \u001b[38;5;66;03m# .i.e,. locally and can not be used globally)\u001b[39;00m\n\u001b[1;32m----> 3\u001b[0m \u001b[38;5;28mprint\u001b[39m(\u001b[43mx\u001b[49m)\n",
      "\u001b[1;31mNameError\u001b[0m: name 'x' is not defined"
     ]
    }
   ],
   "source": [
    "# Raises NameError: name 'x' is not defined (as it is defined inside the function \n",
    "# .i.e,. locally and can not be used globally)\n",
    "print(x)"
   ]
  },
  {
   "cell_type": "markdown",
   "id": "7134bd09",
   "metadata": {},
   "source": [
    "### 7. What is the concept of a return value? Is it possible to have a return value in an expression?"
   ]
  },
  {
   "cell_type": "code",
   "execution_count": 9,
   "id": "4e6ecc88",
   "metadata": {},
   "outputs": [],
   "source": [
    "#1. A return value in programming refers to the value that a function provides as output after its execution. It can be \n",
    "#   assigned to variables, used in expressions, or passed as arguments to other functions."
   ]
  },
  {
   "cell_type": "markdown",
   "id": "1fba4175",
   "metadata": {},
   "source": [
    "### 8. If a function does not have a return statement, what is the return value of a call to that function?"
   ]
  },
  {
   "cell_type": "code",
   "execution_count": 10,
   "id": "6d511fbe",
   "metadata": {},
   "outputs": [],
   "source": [
    "def func():\n",
    "    x = 30"
   ]
  },
  {
   "cell_type": "code",
   "execution_count": 11,
   "id": "79781e5a",
   "metadata": {},
   "outputs": [
    {
     "name": "stdout",
     "output_type": "stream",
     "text": [
      "None\n"
     ]
    }
   ],
   "source": [
    "a=func()\n",
    "print(a)"
   ]
  },
  {
   "cell_type": "code",
   "execution_count": 12,
   "id": "11e7c04e",
   "metadata": {},
   "outputs": [],
   "source": [
    "#1. If a function does not have a 'return' statement, or if the return statement is omitted, the function will still return a \n",
    "#   value. However, that value will be 'None'."
   ]
  },
  {
   "cell_type": "markdown",
   "id": "fc3b4a1e",
   "metadata": {},
   "source": [
    "### 9. How do you make a function variable refer to the global variable?"
   ]
  },
  {
   "cell_type": "code",
   "execution_count": 13,
   "id": "b693dc8a",
   "metadata": {},
   "outputs": [],
   "source": [
    "# We can make a function variable refer to the global variable by using global keyword in side the fuunction."
   ]
  },
  {
   "cell_type": "code",
   "execution_count": 14,
   "id": "b355bc20",
   "metadata": {},
   "outputs": [
    {
     "data": {
      "text/plain": [
       "7"
      ]
     },
     "execution_count": 14,
     "metadata": {},
     "output_type": "execute_result"
    }
   ],
   "source": [
    "def func():\n",
    "    global x\n",
    "    x = 7\n",
    "    return x\n",
    "func()"
   ]
  },
  {
   "cell_type": "code",
   "execution_count": 15,
   "id": "b3b905ab",
   "metadata": {},
   "outputs": [
    {
     "name": "stdout",
     "output_type": "stream",
     "text": [
      "7\n"
     ]
    }
   ],
   "source": [
    "print(x)"
   ]
  },
  {
   "cell_type": "markdown",
   "id": "dc3035bb",
   "metadata": {},
   "source": [
    "###  10. What is the data type of None?"
   ]
  },
  {
   "cell_type": "code",
   "execution_count": 16,
   "id": "cb66ad5d",
   "metadata": {},
   "outputs": [],
   "source": [
    "# Data type of None is NoneType"
   ]
  },
  {
   "cell_type": "markdown",
   "id": "d8fd234a",
   "metadata": {},
   "source": [
    "### 11. What does the sentence import areallyourpetsnamederic do?"
   ]
  },
  {
   "cell_type": "code",
   "execution_count": 17,
   "id": "40d7d7a9",
   "metadata": {},
   "outputs": [
    {
     "ename": "ModuleNotFoundError",
     "evalue": "No module named 'areallyourpetsnamederic'",
     "output_type": "error",
     "traceback": [
      "\u001b[1;31m---------------------------------------------------------------------------\u001b[0m",
      "\u001b[1;31mModuleNotFoundError\u001b[0m                       Traceback (most recent call last)",
      "Cell \u001b[1;32mIn[17], line 2\u001b[0m\n\u001b[0;32m      1\u001b[0m \u001b[38;5;66;03m# There is no such module to import\u001b[39;00m\n\u001b[1;32m----> 2\u001b[0m \u001b[38;5;28;01mimport\u001b[39;00m \u001b[38;5;21;01mareallyourpetsnamederic\u001b[39;00m\n",
      "\u001b[1;31mModuleNotFoundError\u001b[0m: No module named 'areallyourpetsnamederic'"
     ]
    }
   ],
   "source": [
    "# There is no such module to import\n",
    "import areallyourpetsnamederic"
   ]
  },
  {
   "cell_type": "code",
   "execution_count": 18,
   "id": "0c8e1e4e",
   "metadata": {},
   "outputs": [],
   "source": [
    "# The import keyword is used to import modules or packages into program."
   ]
  },
  {
   "cell_type": "markdown",
   "id": "d2941188",
   "metadata": {},
   "source": [
    "###  12. If you had a bacon() feature in a spam module, what would you call it after importing spam?"
   ]
  },
  {
   "cell_type": "code",
   "execution_count": 19,
   "id": "38957f4e",
   "metadata": {},
   "outputs": [],
   "source": [
    "# import spam\n",
    "# a=spam.bacon()"
   ]
  },
  {
   "cell_type": "markdown",
   "id": "0aa4de7e",
   "metadata": {},
   "source": [
    "### 13. What can you do to save a programme from crashing if it encounters an error? "
   ]
  },
  {
   "cell_type": "code",
   "execution_count": 20,
   "id": "efc3f424",
   "metadata": {},
   "outputs": [],
   "source": [
    "# We can use try and except to save the pragramme from crashing if it encounters an error(only runtime errors)."
   ]
  },
  {
   "cell_type": "markdown",
   "id": "6a821a83",
   "metadata": {},
   "source": [
    "### 14. What is the purpose of the try clause? What is the purpose of the except clause?"
   ]
  },
  {
   "cell_type": "code",
   "execution_count": 21,
   "id": "585408cb",
   "metadata": {},
   "outputs": [],
   "source": [
    "#1. Try clause is used to run a block of code(if in case you are not sure with the code  i.e,. if it is correct or not). \n",
    "#2. Except clause gives the output when ever the try clause encounters an runtime error."
   ]
  },
  {
   "cell_type": "code",
   "execution_count": null,
   "id": "1d2621f3",
   "metadata": {},
   "outputs": [],
   "source": []
  }
 ],
 "metadata": {
  "kernelspec": {
   "display_name": "Python 3 (ipykernel)",
   "language": "python",
   "name": "python3"
  },
  "language_info": {
   "codemirror_mode": {
    "name": "ipython",
    "version": 3
   },
   "file_extension": ".py",
   "mimetype": "text/x-python",
   "name": "python",
   "nbconvert_exporter": "python",
   "pygments_lexer": "ipython3",
   "version": "3.10.9"
  }
 },
 "nbformat": 4,
 "nbformat_minor": 5
}
