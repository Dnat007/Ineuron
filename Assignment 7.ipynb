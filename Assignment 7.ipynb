{
 "cells": [
  {
   "cell_type": "markdown",
   "id": "7413c78a",
   "metadata": {},
   "source": [
    "<b>Q.1. Create two int type variables, apply addition, subtraction, division and multiplications\n",
    "and store the results in variables. Then print the data in the following format by calling the\n",
    "variables:\n",
    "\n",
    "<b>First variable is __ & second variable is __.<br>\n",
    "<b>Addition: __ + __ = __<br>\n",
    "<b>Subtraction: __ - __ = __<br>\n",
    "<b>Multiplication: __ * __ = __<br>\n",
    "<b>Division: __ / __ = __<br>"
   ]
  },
  {
   "cell_type": "code",
   "execution_count": 1,
   "id": "9b95def8",
   "metadata": {},
   "outputs": [
    {
     "name": "stdout",
     "output_type": "stream",
     "text": [
      "First variable is 10 and second variable is 20\n",
      "Addition : 10 + 20 = 30\n",
      "Addition : 10 - 20 = -10\n",
      "Addition : 10 * 20 = 200\n",
      "Addition : 10 / 20 = 0.5\n"
     ]
    }
   ],
   "source": [
    "# Answer :\n",
    "num1 = 10\n",
    "num2 = 20\n",
    "\n",
    "addition = num1+num2\n",
    "subtraction = num1-num2\n",
    "multiplication = num1*num2\n",
    "division = num1/num2\n",
    "\n",
    "print(f\"First variable is {num1} and second variable is {num2}\")\n",
    "print(f\"Addition : {num1} + {num2} = {addition}\")\n",
    "print(f\"Addition : {num1} - {num2} = {subtraction}\")\n",
    "print(f\"Addition : {num1} * {num2} = {multiplication}\")\n",
    "print(f\"Addition : {num1} / {num2} = {division}\")"
   ]
  },
  {
   "cell_type": "markdown",
   "id": "b8038975",
   "metadata": {},
   "source": [
    "<b>Q.2. What is the difference between the following operators:<br>\n",
    "<b>(i) ‘/’ & ‘//’<br>\n",
    "<b>(ii) ‘**’ & ‘^’<br>\n",
    "    \n",
    "Answer : <br> \n",
    "The // slash gave us the floor division i.e here rthe result is quotient<br>\n",
    "The /  slash gave us the exact division value of the variable<br>\n",
    "\n",
    "Eg: 12//5 --> gave us 2<br>\n",
    "    12/5 -->gave us the result in exact value i.e 2.4<br>"
   ]
  },
  {
   "cell_type": "markdown",
   "id": "88e0e225",
   "metadata": {},
   "source": [
    "<b>Q.3. List the logical operators.<br><br></b>\n",
    "Answer:<br>\n",
    "    The logical operator are AND , OR , NOT<br>\n",
    "        And will return the True if both cases are true<br>\n",
    "        OR will return True if either one is True<br>\n",
    "        NOT will return the True if there is False statement<br>"
   ]
  },
  {
   "cell_type": "markdown",
   "id": "50fa55a4",
   "metadata": {},
   "source": [
    "<b>Q.4. Explain right shift operator and left shift operator with examples.<br><br></b>\n",
    "Answer: <br>\n",
    "    Bitwise Left shift : this operator simply add 0 at the end of the binary <br>\n",
    "    Eg: 10 -- 1010<br>\n",
    "        10<<2 -- 101000<br>\n",
    "    Bitwise Right shift : This operator add 0 at the starting of the binary<br>\n",
    "    Eg : 10 -- 1010<br>\n",
    "        10>>2 -- 0010<br>"
   ]
  },
  {
   "cell_type": "markdown",
   "id": "aafcbb38",
   "metadata": {},
   "source": [
    "<b>Q.5. Create a list containing int type data of length 15. Then write a code to check if 10 is\n",
    "present in the list or not.</b>"
   ]
  },
  {
   "cell_type": "code",
   "execution_count": 2,
   "id": "cb1afe8d",
   "metadata": {},
   "outputs": [
    {
     "name": "stdout",
     "output_type": "stream",
     "text": [
      "10 is present in the list\n"
     ]
    }
   ],
   "source": [
    "new = [1,2,3,4,5,6,7,8,9,10,12,23,45,15,9090]\n",
    "if 10 in new:\n",
    "    print(\"10 is present in the list\")\n",
    "else:\n",
    "    print(\"10 is not present in the list\")"
   ]
  },
  {
   "cell_type": "code",
   "execution_count": 3,
   "id": "e69ebfc3",
   "metadata": {},
   "outputs": [
    {
     "name": "stdout",
     "output_type": "stream",
     "text": [
      "not there\n",
      "not there\n",
      "not there\n",
      "not there\n",
      "not there\n",
      "not there\n",
      "not there\n",
      "not there\n",
      "not there\n",
      "congo\n"
     ]
    }
   ],
   "source": [
    "for i in new:\n",
    "    if i ==10:\n",
    "        print(\"congo\")\n",
    "        break\n",
    "    else:\n",
    "        print(\"not there\")"
   ]
  },
  {
   "cell_type": "code",
   "execution_count": null,
   "id": "0891bcc3",
   "metadata": {},
   "outputs": [],
   "source": []
  }
 ],
 "metadata": {
  "kernelspec": {
   "display_name": "Python 3 (ipykernel)",
   "language": "python",
   "name": "python3"
  },
  "language_info": {
   "codemirror_mode": {
    "name": "ipython",
    "version": 3
   },
   "file_extension": ".py",
   "mimetype": "text/x-python",
   "name": "python",
   "nbconvert_exporter": "python",
   "pygments_lexer": "ipython3",
   "version": "3.9.7"
  }
 },
 "nbformat": 4,
 "nbformat_minor": 5
}
