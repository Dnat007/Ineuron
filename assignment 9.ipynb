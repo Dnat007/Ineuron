{
 "cells": [
  {
   "cell_type": "markdown",
   "id": "a3f772a6",
   "metadata": {},
   "source": [
    "# 1. What is a lambda function in Python, and how does it differ from a regular function?"
   ]
  },
  {
   "cell_type": "markdown",
   "id": "60bfb642",
   "metadata": {},
   "source": [
    "Ans. Lambda functions are similar to user-defined functions but without a name. They're commonly referred to as anonymous functions.\n",
    "Lambda functions are efficient whenever you want to create a function that will only contain simple expressions – that is, expressions that are usually a single line of a statement. \n",
    " Lambda function also useful when you want to use the function once."
   ]
  },
  {
   "cell_type": "markdown",
   "id": "43fbd5ee",
   "metadata": {},
   "source": [
    "# 2. Can a lambda function in Python have multiple arguments? If yes, how can you define and use them?"
   ]
  },
  {
   "cell_type": "markdown",
   "id": "0f138f93",
   "metadata": {},
   "source": [
    "Ans:-Yes, a lambda function in Python can have multiple arguments. \n",
    "     we can define and use them by separating the arguments with commas.\n"
   ]
  },
  {
   "cell_type": "code",
   "execution_count": 3,
   "id": "dad6a461",
   "metadata": {},
   "outputs": [
    {
     "name": "stdout",
     "output_type": "stream",
     "text": [
      "25\n"
     ]
    }
   ],
   "source": [
    "multiply = lambda x, y: x * y\n",
    "\n",
    "result = multiply(5, 5)\n",
    "print(result) "
   ]
  },
  {
   "cell_type": "markdown",
   "id": "951119b6",
   "metadata": {},
   "source": [
    "# 3. How are lambda functions typically used in Python? Provide an example use case."
   ]
  },
  {
   "cell_type": "markdown",
   "id": "2e5936e3",
   "metadata": {},
   "source": [
    "Ans. Lambda functions are typically used in Python for situations where a small, anonymous function is required, especially when passing functions as arguments or using them in situations where a full function definition is not necessary.\n",
    "    \n",
    "Here are a few common use cases for lambda functions:\n",
    "        "
   ]
  },
  {
   "cell_type": "code",
   "execution_count": null,
   "id": "28764ec9",
   "metadata": {},
   "outputs": [],
   "source": [
    "1.Sorting:\n",
    "Lambda functions are commonly used as the key argument in sorting operations.\n",
    "names = [\"Alice\", \"Bob\", \"Charlie\", \"Dave\"]\n",
    "sorted_names = sorted(names, key=lambda x: len(x))\n",
    "print(sorted_names)  # Output: ['Bob', 'Dave', 'Alice', 'Charlie']\n",
    "\n",
    "\n",
    "2.Filtering:\n",
    "Lambda functions can be used with filtering functions like filter() to conditionally include or exclude elements from a sequence. \n",
    "numbers = [1, 2, 3, 4, 5, 6]\n",
    "even_numbers = list(filter(lambda x: x % 2 == 0, numbers))\n",
    "print(even_numbers)  # Output: [2, 4, 6]\n",
    "\n",
    "\n",
    "3.Mapping:\n",
    "Lambda functions can be used with mapping functions like map() to transform elements of a sequence. \n",
    "numbers = [1, 2, 3, 4, 5]\n",
    "squared_numbers = list(map(lambda x: x ** 2, numbers))\n",
    "print(squared_numbers)  # Output: [1, 4, 9, 16, 25]"
   ]
  },
  {
   "cell_type": "markdown",
   "id": "51162bf3",
   "metadata": {},
   "source": [
    "# 4. What are the advantages and limitations of lambda functions compared to regular functions in Python?"
   ]
  },
  {
   "cell_type": "markdown",
   "id": "0780e6bc",
   "metadata": {},
   "source": [
    "Ans:-\n",
    "    Advantages of Lambda Functions:\n",
    "\n",
    "1.Concise and Readable Code: Lambda functions allow you to write compact and concise code, especially for small, one-time-use functions. They can make code more readable by reducing the need for explicit function definitions.\n",
    "\n",
    "2.Anonymous Functions: Lambda functions are anonymous functions, meaning they don't require a formal name. This can be advantageous when you have a function that is only used in a specific context or as an argument to another function.\n",
    "\n",
    "3.Flexibility: Lambda functions can be used as arguments to other functions, allowing you to write more expressive and flexible code. They are often used with higher-order functions like map(), filter(), and sorted().\n",
    "    \n",
    "    \n",
    "    \n",
    "\n",
    "\n",
    "\n",
    "Limitations of Lambda Functions:\n",
    "\n",
    "1.Limited Functionality: Lambda functions are restricted to a single expression and cannot contain multiple statements or complex logic. They are best suited for simple and concise operations.\n",
    "\n",
    "2.No Docstrings or Annotations: Lambda functions do not support docstrings or annotations. Docstrings are used to document the purpose and usage of a function, while annotations provide additional type information.\n",
    "\n",
    "3.Reduced Reusability: Lambda functions are not easily reusable across different parts of a program. They are typically created and used within a specific context or as part of a single expression.\n",
    "\n",
    "4.Limited Debugging: Since lambda functions lack a formal name, debugging can be more challenging when encountering issues wit"
   ]
  },
  {
   "cell_type": "markdown",
   "id": "5dc3f7fb",
   "metadata": {},
   "source": [
    "# 5. Are lambda functions in Python able to access variables defined outside of their own scope? Explain with an example."
   ]
  },
  {
   "cell_type": "markdown",
   "id": "af465a61",
   "metadata": {},
   "source": [
    "Ans. Yes, lambda functions in Python can access variables defined outside of their own scope. "
   ]
  },
  {
   "cell_type": "code",
   "execution_count": 17,
   "id": "e9116407",
   "metadata": {},
   "outputs": [
    {
     "name": "stdout",
     "output_type": "stream",
     "text": [
      "15\n"
     ]
    }
   ],
   "source": [
    "def outer_function():\n",
    "    x = 10\n",
    "    return lambda y: x + y\n",
    "\n",
    "closure_lambda = outer_function()\n",
    "result = closure_lambda(5)\n",
    "print(result) "
   ]
  },
  {
   "cell_type": "markdown",
   "id": "bdb4ecf5",
   "metadata": {},
   "source": [
    "# 6. Write a lambda function to calculate the square of a given number."
   ]
  },
  {
   "cell_type": "code",
   "execution_count": 18,
   "id": "7f9d01a8",
   "metadata": {},
   "outputs": [],
   "source": [
    "square=(lambda x:x**2)"
   ]
  },
  {
   "cell_type": "code",
   "execution_count": 21,
   "id": "7e4bb423",
   "metadata": {},
   "outputs": [],
   "source": [
    "result=square(5)"
   ]
  },
  {
   "cell_type": "code",
   "execution_count": 22,
   "id": "40c850a4",
   "metadata": {},
   "outputs": [
    {
     "name": "stdout",
     "output_type": "stream",
     "text": [
      "25\n"
     ]
    }
   ],
   "source": [
    "print(result)"
   ]
  },
  {
   "cell_type": "markdown",
   "id": "9def3bdc",
   "metadata": {},
   "source": [
    "# 7. Create a lambda function to find the maximum value in a list of integers."
   ]
  },
  {
   "cell_type": "code",
   "execution_count": 24,
   "id": "1f95b573",
   "metadata": {},
   "outputs": [
    {
     "name": "stdout",
     "output_type": "stream",
     "text": [
      "85\n"
     ]
    }
   ],
   "source": [
    "maximum=(lambda lst:max(lst))\n",
    "lst=[2,6,7,8,9,44,85]\n",
    "\n",
    "result=maximum(lst)\n",
    "print(result)"
   ]
  },
  {
   "cell_type": "markdown",
   "id": "a09d57fc",
   "metadata": {},
   "source": [
    "# 8. Implement a lambda function to filter out all the even numbers from a list of integers."
   ]
  },
  {
   "cell_type": "code",
   "execution_count": 25,
   "id": "cd6c7e0b",
   "metadata": {},
   "outputs": [
    {
     "name": "stdout",
     "output_type": "stream",
     "text": [
      "[2, 4, 6, 8, 2, 4]\n"
     ]
    }
   ],
   "source": [
    "filter_even = lambda lst: list(filter(lambda x: x % 2 == 0, lst))\n",
    "lst=[2,3,4,6,7,8,2,4]\n",
    "result=filter_even(lst)\n",
    "print(result)"
   ]
  },
  {
   "cell_type": "markdown",
   "id": "c5b1469d",
   "metadata": {},
   "source": [
    " # 9. Write a lambda function to sort a list of strings in ascending order based on the length of each string."
   ]
  },
  {
   "cell_type": "code",
   "execution_count": 26,
   "id": "88594b2c",
   "metadata": {},
   "outputs": [
    {
     "name": "stdout",
     "output_type": "stream",
     "text": [
      "['apple', 'lichi', 'banana', 'gavava']\n"
     ]
    }
   ],
   "source": [
    "sort_by_length = lambda lst: sorted(lst, key=lambda x: len(x))\n",
    "lst=['apple','banana','lichi','gavava']\n",
    "\n",
    "sorting_string=sort_by_length(lst)\n",
    "print(sorting_string)"
   ]
  },
  {
   "cell_type": "markdown",
   "id": "7086f8d6",
   "metadata": {},
   "source": [
    "# 10. Create a lambda function that takes two lists as input and returns a new list containing the common elements between the two lists."
   ]
  },
  {
   "cell_type": "code",
   "execution_count": 27,
   "id": "fe426cab",
   "metadata": {},
   "outputs": [
    {
     "name": "stdout",
     "output_type": "stream",
     "text": [
      "[4, 5]\n"
     ]
    }
   ],
   "source": [
    "common_elements = lambda list1, list2: list(filter(lambda x: x in list2, list1))\n",
    "list1 = [1, 2, 3, 4, 5]\n",
    "list2 = [4, 5, 6, 7, 8]\n",
    "\n",
    "result = common_elements(list1, list2)\n",
    "print(result)  "
   ]
  },
  {
   "cell_type": "markdown",
   "id": "82ed037e",
   "metadata": {},
   "source": [
    "# 11. Write a recursive function to calculate the factorial of a given positive integer."
   ]
  },
  {
   "cell_type": "code",
   "execution_count": 28,
   "id": "38d55b92",
   "metadata": {},
   "outputs": [
    {
     "name": "stdout",
     "output_type": "stream",
     "text": [
      "1307674368000\n"
     ]
    }
   ],
   "source": [
    "def factorial(num):\n",
    "    if num==0 or num==1:\n",
    "        return 1\n",
    "    else:\n",
    "        return (num*factorial(num-1))\n",
    "facto=factorial(15)\n",
    "print(facto)    "
   ]
  },
  {
   "cell_type": "markdown",
   "id": "eaf1c51c",
   "metadata": {},
   "source": [
    "# 12. Implement a recursive function to compute the nth Fibonacci number."
   ]
  },
  {
   "cell_type": "code",
   "execution_count": 29,
   "id": "be85113e",
   "metadata": {},
   "outputs": [
    {
     "name": "stdout",
     "output_type": "stream",
     "text": [
      "0\n",
      "1\n",
      "1\n",
      "2\n",
      "3\n",
      "5\n",
      "8\n",
      "13\n",
      "21\n",
      "34\n"
     ]
    }
   ],
   "source": [
    "\n",
    "n=10\n",
    "def fib(n):\n",
    "    if n==0 or n==1:\n",
    "        return n\n",
    "    else:\n",
    "        return (fib(n-1)+fib(n-2))\n",
    "    \n",
    "\n",
    "for i in range(n):\n",
    "    print(fib(i))"
   ]
  },
  {
   "cell_type": "markdown",
   "id": "aa34ddb3",
   "metadata": {},
   "source": [
    "# 13. Create a recursive function to find the sum of all the elements in a given list."
   ]
  },
  {
   "cell_type": "code",
   "execution_count": 16,
   "id": "ec5b4d50",
   "metadata": {},
   "outputs": [
    {
     "name": "stdout",
     "output_type": "stream",
     "text": [
      "42\n"
     ]
    }
   ],
   "source": [
    "myList=[23,4,2,6,7]\n",
    " \n",
    "def sumOfList(myList, nSum):\n",
    "    if len(myList):\n",
    "        return sumOfList(myList[1:], nSum+myList[0])\n",
    "    else:\n",
    "        return nSum\n",
    "         \n",
    "print(sumOfList(myList, 0))"
   ]
  },
  {
   "cell_type": "markdown",
   "id": "05cd0001",
   "metadata": {},
   "source": [
    "# 14. Write a recursive function to determine whether a given string is a palindrome."
   ]
  },
  {
   "cell_type": "code",
   "execution_count": 5,
   "id": "5897c4fb",
   "metadata": {},
   "outputs": [],
   "source": [
    "def is_palindrome(string):\n",
    "    if len(string) <= 1:\n",
    "        return True\n",
    "    else:\n",
    "        if string[0] == string[-1]:\n",
    "            return is_palindrome(string[1:-1])\n",
    "        else:\n",
    "            return False\n",
    "      "
   ]
  },
  {
   "cell_type": "code",
   "execution_count": 9,
   "id": "c025f5bd",
   "metadata": {},
   "outputs": [
    {
     "name": "stdout",
     "output_type": "stream",
     "text": [
      "True\n"
     ]
    }
   ],
   "source": [
    "  string1 = \"madam\"\n",
    "print(is_palindrome(string1))  \n"
   ]
  },
  {
   "cell_type": "code",
   "execution_count": 8,
   "id": "80fa23cd",
   "metadata": {},
   "outputs": [
    {
     "name": "stdout",
     "output_type": "stream",
     "text": [
      "False\n"
     ]
    }
   ],
   "source": [
    "string2=\"shalini\"\n",
    "print(is_palindrome(string2))"
   ]
  },
  {
   "cell_type": "markdown",
   "id": "72f7b060",
   "metadata": {},
   "source": [
    "# 15. Implement a recursive function to find the greatest common divisor (GCD) of two positive integers."
   ]
  },
  {
   "cell_type": "code",
   "execution_count": 11,
   "id": "7dea1e5a",
   "metadata": {},
   "outputs": [],
   "source": [
    "def gcd(a, b):\n",
    "    if b == 0:\n",
    "        return a\n",
    "    else:\n",
    "        return gcd(b, a % b)"
   ]
  },
  {
   "cell_type": "code",
   "execution_count": 12,
   "id": "129c6ebd",
   "metadata": {},
   "outputs": [
    {
     "name": "stdout",
     "output_type": "stream",
     "text": [
      "1\n"
     ]
    }
   ],
   "source": [
    "result=gcd(3,4)\n",
    "print(result)"
   ]
  },
  {
   "cell_type": "code",
   "execution_count": null,
   "id": "dae43ff5",
   "metadata": {},
   "outputs": [],
   "source": []
  }
 ],
 "metadata": {
  "kernelspec": {
   "display_name": "Python 3 (ipykernel)",
   "language": "python",
   "name": "python3"
  },
  "language_info": {
   "codemirror_mode": {
    "name": "ipython",
    "version": 3
   },
   "file_extension": ".py",
   "mimetype": "text/x-python",
   "name": "python",
   "nbconvert_exporter": "python",
   "pygments_lexer": "ipython3",
   "version": "3.10.9"
  }
 },
 "nbformat": 4,
 "nbformat_minor": 5
}
