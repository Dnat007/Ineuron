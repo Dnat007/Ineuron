{
 "cells": [
  {
   "cell_type": "markdown",
   "id": "bb0d57f7",
   "metadata": {},
   "source": [
    "### 1. What exactly is [ ]?"
   ]
  },
  {
   "cell_type": "code",
   "execution_count": 1,
   "id": "61143146",
   "metadata": {},
   "outputs": [],
   "source": [
    "# It is a empty list"
   ]
  },
  {
   "cell_type": "code",
   "execution_count": 2,
   "id": "73197d76",
   "metadata": {},
   "outputs": [
    {
     "data": {
      "text/plain": [
       "list"
      ]
     },
     "execution_count": 2,
     "metadata": {},
     "output_type": "execute_result"
    }
   ],
   "source": [
    "a=[]\n",
    "type(a)"
   ]
  },
  {
   "cell_type": "markdown",
   "id": "38613b72",
   "metadata": {},
   "source": [
    "### 2. In a list of values stored in a variable called spam, how would you assign the value 'hello' as the third value? (Assume [2, 4, 6, 8, 10] are in spam.)"
   ]
  },
  {
   "cell_type": "code",
   "execution_count": 3,
   "id": "db98d36a",
   "metadata": {},
   "outputs": [
    {
     "name": "stdout",
     "output_type": "stream",
     "text": [
      "[2, 4, 'hello', 8, 10]\n"
     ]
    }
   ],
   "source": [
    "spam=[2,4,6,8,10]\n",
    "spam[2]='hello'\n",
    "print(spam)"
   ]
  },
  {
   "cell_type": "markdown",
   "id": "17614b22",
   "metadata": {},
   "source": [
    "### Let's pretend the spam includes the list ['a', 'b', 'c','d'] for the next three queries."
   ]
  },
  {
   "cell_type": "markdown",
   "id": "30ff7af1",
   "metadata": {},
   "source": [
    "### 3. What is the value of spam[int(int('3'* 2) / 11)]?"
   ]
  },
  {
   "cell_type": "code",
   "execution_count": 4,
   "id": "9f930735",
   "metadata": {},
   "outputs": [
    {
     "name": "stdout",
     "output_type": "stream",
     "text": [
      "d\n"
     ]
    }
   ],
   "source": [
    "spam=['a', 'b', 'c','d'] \n",
    "a=spam[int(int('3'* 2) / 11)]\n",
    "print(a)"
   ]
  },
  {
   "cell_type": "code",
   "execution_count": 5,
   "id": "4330fe2c",
   "metadata": {},
   "outputs": [
    {
     "data": {
      "text/plain": [
       "33"
      ]
     },
     "execution_count": 5,
     "metadata": {},
     "output_type": "execute_result"
    }
   ],
   "source": [
    "int('3'* 2)"
   ]
  },
  {
   "cell_type": "markdown",
   "id": "95ce2868",
   "metadata": {},
   "source": [
    "### 4. What is the value of spam[-1]?"
   ]
  },
  {
   "cell_type": "code",
   "execution_count": 6,
   "id": "3d6ab2de",
   "metadata": {},
   "outputs": [
    {
     "data": {
      "text/plain": [
       "'d'"
      ]
     },
     "execution_count": 6,
     "metadata": {},
     "output_type": "execute_result"
    }
   ],
   "source": [
    "spam=['a', 'b', 'c','d'] \n",
    "spam[-1]"
   ]
  },
  {
   "cell_type": "markdown",
   "id": "02bc9528",
   "metadata": {},
   "source": [
    "### 5. What is the value of spam[:2]?"
   ]
  },
  {
   "cell_type": "code",
   "execution_count": 7,
   "id": "d2e47ef2",
   "metadata": {},
   "outputs": [
    {
     "data": {
      "text/plain": [
       "['a', 'b']"
      ]
     },
     "execution_count": 7,
     "metadata": {},
     "output_type": "execute_result"
    }
   ],
   "source": [
    "spam=['a', 'b', 'c','d'] \n",
    "spam[:2]"
   ]
  },
  {
   "cell_type": "markdown",
   "id": "600ffd5f",
   "metadata": {},
   "source": [
    "### Let's pretend bacon has the list [3.14, 'cat', 11, 'cat', True] for the next three questions. "
   ]
  },
  {
   "cell_type": "markdown",
   "id": "6b2d0458",
   "metadata": {},
   "source": [
    "### 6. What is the value of bacon.index('cat')? "
   ]
  },
  {
   "cell_type": "code",
   "execution_count": 8,
   "id": "c92e48e8",
   "metadata": {},
   "outputs": [
    {
     "data": {
      "text/plain": [
       "1"
      ]
     },
     "execution_count": 8,
     "metadata": {},
     "output_type": "execute_result"
    }
   ],
   "source": [
    "bacon=[3.14, 'cat', 11, 'cat', True]\n",
    "bacon.index('cat')"
   ]
  },
  {
   "cell_type": "markdown",
   "id": "883a8ac8",
   "metadata": {},
   "source": [
    "###  7. How does bacon.append(99) change the look of the list value in bacon?"
   ]
  },
  {
   "cell_type": "code",
   "execution_count": 9,
   "id": "d65ca4c5",
   "metadata": {},
   "outputs": [],
   "source": [
    "# It appens the element to the end of the list."
   ]
  },
  {
   "cell_type": "code",
   "execution_count": 10,
   "id": "1d04c92f",
   "metadata": {},
   "outputs": [
    {
     "name": "stdout",
     "output_type": "stream",
     "text": [
      "[3.14, 'cat', 11, 'cat', True, 99]\n"
     ]
    }
   ],
   "source": [
    "bacon=[3.14, 'cat', 11, 'cat', True]\n",
    "bacon.append(99)\n",
    "print(bacon)"
   ]
  },
  {
   "cell_type": "markdown",
   "id": "c5506985",
   "metadata": {},
   "source": [
    "###  8. How does bacon.remove('cat') change the look of the list in bacon?"
   ]
  },
  {
   "cell_type": "code",
   "execution_count": 11,
   "id": "9983d25b",
   "metadata": {},
   "outputs": [],
   "source": [
    "# Removes the first available item named 'cat'."
   ]
  },
  {
   "cell_type": "code",
   "execution_count": 12,
   "id": "e7e4eccb",
   "metadata": {},
   "outputs": [
    {
     "name": "stdout",
     "output_type": "stream",
     "text": [
      "[3.14, 11, 'cat', True]\n"
     ]
    }
   ],
   "source": [
    "bacon=[3.14, 'cat', 11, 'cat', True]\n",
    "bacon.remove('cat')\n",
    "print(bacon)"
   ]
  },
  {
   "cell_type": "markdown",
   "id": "2a0c3137",
   "metadata": {},
   "source": [
    "### 9. What are the list concatenation and list replication operators? "
   ]
  },
  {
   "cell_type": "code",
   "execution_count": 13,
   "id": "4f20299a",
   "metadata": {},
   "outputs": [],
   "source": [
    "#1.List Concatenation Operator (+):\n",
    "#  Is used between two lists, it creates a new list that contains all the elements from both lists, they appear in the order."
   ]
  },
  {
   "cell_type": "code",
   "execution_count": 14,
   "id": "a6698fb0",
   "metadata": {},
   "outputs": [
    {
     "name": "stdout",
     "output_type": "stream",
     "text": [
      "[10, 20, 30, 40, 50, 60, 70, 80]\n"
     ]
    }
   ],
   "source": [
    "A=[10,20,30,40]\n",
    "B=[50,60,70,80]\n",
    "C=A+B\n",
    "print(C)"
   ]
  },
  {
   "cell_type": "code",
   "execution_count": 15,
   "id": "8cf6d633",
   "metadata": {},
   "outputs": [],
   "source": [
    "#2.List Replication Operator (*):\n",
    "#  Is used between a list and an integer, it generates a new list by repeating the elements of the original list the \n",
    "#  specified number of times."
   ]
  },
  {
   "cell_type": "code",
   "execution_count": 16,
   "id": "211816bc",
   "metadata": {},
   "outputs": [
    {
     "name": "stdout",
     "output_type": "stream",
     "text": [
      "[10, 20, 30, 40, 10, 20, 30, 40, 10, 20, 30, 40]\n"
     ]
    }
   ],
   "source": [
    "A=[10,20,30,40]\n",
    "B=A*3\n",
    "print(B)"
   ]
  },
  {
   "cell_type": "markdown",
   "id": "f49160a5",
   "metadata": {},
   "source": [
    "### 10. What is difference between the list methods append() and insert()?"
   ]
  },
  {
   "cell_type": "code",
   "execution_count": 17,
   "id": "1a605b0d",
   "metadata": {},
   "outputs": [],
   "source": [
    "#1. append() method: It adds the item to the end of the list."
   ]
  },
  {
   "cell_type": "code",
   "execution_count": 18,
   "id": "277734ac",
   "metadata": {},
   "outputs": [
    {
     "name": "stdout",
     "output_type": "stream",
     "text": [
      "[1, 2, 3, 4, 5, 6, 5]\n"
     ]
    }
   ],
   "source": [
    "lista=[1,2,3,4,5,6]\n",
    "lista.append(5)\n",
    "print(lista)"
   ]
  },
  {
   "cell_type": "code",
   "execution_count": 19,
   "id": "bbcdf7e3",
   "metadata": {},
   "outputs": [],
   "source": [
    "#2. insert() method: It inserts the item to the list at specified position of the index."
   ]
  },
  {
   "cell_type": "code",
   "execution_count": 20,
   "id": "a023eedc",
   "metadata": {},
   "outputs": [
    {
     "name": "stdout",
     "output_type": "stream",
     "text": [
      "[10, 1, 2, 3, 4, 5, 6]\n"
     ]
    }
   ],
   "source": [
    "listb=[1,2,3,4,5,6]\n",
    "listb.insert(0,10)\n",
    "print(listb)"
   ]
  },
  {
   "cell_type": "markdown",
   "id": "965fe27d",
   "metadata": {},
   "source": [
    "### 11. What are the two methods for removing items from a list? "
   ]
  },
  {
   "cell_type": "code",
   "execution_count": 21,
   "id": "db213904",
   "metadata": {},
   "outputs": [
    {
     "name": "stdout",
     "output_type": "stream",
     "text": [
      "['x', 'z']\n"
     ]
    }
   ],
   "source": [
    "#pop()\n",
    "listc=['x','y','z']\n",
    "listc.pop(1)\n",
    "print(listc)"
   ]
  },
  {
   "cell_type": "code",
   "execution_count": 22,
   "id": "7291f648",
   "metadata": {},
   "outputs": [
    {
     "name": "stdout",
     "output_type": "stream",
     "text": [
      "['x', 'z']\n"
     ]
    }
   ],
   "source": [
    "#remove()\n",
    "listd=['x','y','z']\n",
    "listd.remove('y')\n",
    "print(listd)"
   ]
  },
  {
   "cell_type": "code",
   "execution_count": 23,
   "id": "d2ef1960",
   "metadata": {},
   "outputs": [
    {
     "name": "stdout",
     "output_type": "stream",
     "text": [
      "['x', 'z']\n"
     ]
    }
   ],
   "source": [
    "#del\n",
    "liste=['x','y','z']\n",
    "del liste[1]\n",
    "print(liste)"
   ]
  },
  {
   "cell_type": "markdown",
   "id": "6f6b7b8c",
   "metadata": {},
   "source": [
    "### 12. Describe how list values and string values are identical. "
   ]
  },
  {
   "cell_type": "code",
   "execution_count": 24,
   "id": "02c4ff26",
   "metadata": {},
   "outputs": [],
   "source": [
    "#1. Both lists and strings maintain an ordered collection of elements, allowing for indexing and slicing operations.\n",
    "#2. Elements within a list or a string can be accessed using their indices.\n",
    "#3. Both lists and strings share some common operations such as concatenation (+), replication (*), length determination \n",
    "#   (len()), membership testing (in), and iteration using loops."
   ]
  },
  {
   "cell_type": "markdown",
   "id": "d8ca7511",
   "metadata": {},
   "source": [
    "### 13. What's the difference between tuples and lists?"
   ]
  },
  {
   "cell_type": "code",
   "execution_count": 25,
   "id": "f8f64dd3",
   "metadata": {},
   "outputs": [],
   "source": [
    "#1. LIST: Lists are used to store multiple items in a single variable.\n",
    "#         List items are ordered, changeable, and allow duplicate values.\n",
    "#         Lists are created using square brackets\n",
    "#2. TUPLE: Tuples are used to store multiple items in a single variable.\n",
    "#          Tuple items are ordered, unchangeable, and allow duplicate values.\n",
    "#          Tuples are written with round brackets."
   ]
  },
  {
   "cell_type": "markdown",
   "id": "68f1c49c",
   "metadata": {},
   "source": [
    "### 14. How do you type a tuple value that only contains the integer 42? "
   ]
  },
  {
   "cell_type": "code",
   "execution_count": 26,
   "id": "e491e34a",
   "metadata": {},
   "outputs": [
    {
     "data": {
      "text/plain": [
       "tuple"
      ]
     },
     "execution_count": 26,
     "metadata": {},
     "output_type": "execute_result"
    }
   ],
   "source": [
    "a=(42,)\n",
    "type(a)"
   ]
  },
  {
   "cell_type": "markdown",
   "id": "c231f81b",
   "metadata": {},
   "source": [
    "### 15. How do you get a list value's tuple form? How do you get a tuple value's list form?"
   ]
  },
  {
   "cell_type": "code",
   "execution_count": 27,
   "id": "ff1faf21",
   "metadata": {},
   "outputs": [
    {
     "name": "stdout",
     "output_type": "stream",
     "text": [
      "('apple', 'banana', 'cherry')\n"
     ]
    }
   ],
   "source": [
    "#list value's tuple form\n",
    "listf=['apple','banana','cherry']\n",
    "a=tuple(listf)\n",
    "print(a)"
   ]
  },
  {
   "cell_type": "code",
   "execution_count": 28,
   "id": "a53c01a4",
   "metadata": {},
   "outputs": [
    {
     "name": "stdout",
     "output_type": "stream",
     "text": [
      "['rose', 'lotus', 'jasmine', 'lily']\n"
     ]
    }
   ],
   "source": [
    "#tuple value's list form\n",
    "tuplea=('rose','lotus','jasmine','lily')\n",
    "b=list(tuplea)\n",
    "print(b)"
   ]
  },
  {
   "cell_type": "markdown",
   "id": "effcde24",
   "metadata": {},
   "source": [
    "### 16. Variables that \"contain\" list values are not necessarily lists themselves. Instead, what do they contain?"
   ]
  },
  {
   "cell_type": "code",
   "execution_count": 29,
   "id": "1e639387",
   "metadata": {},
   "outputs": [],
   "source": [
    "#1. Variables contain references to list objects i.e.,Variables are used to store references to objects rather than directly \n",
    "#   containing the object's data."
   ]
  },
  {
   "cell_type": "markdown",
   "id": "c799c0c8",
   "metadata": {},
   "source": [
    "### 17. How do you distinguish between copy.copy() and copy.deepcopy()? "
   ]
  },
  {
   "cell_type": "code",
   "execution_count": 30,
   "id": "5edb90c6",
   "metadata": {},
   "outputs": [],
   "source": [
    "#1. copy.copy() creates a new object but references the same elements as the original object (shallow copy).\n",
    "#2. copy.deepcopy() creates a new object and recursively copies all the objects referenced by the original object, \n",
    "#   creating independent copies (deep copy)."
   ]
  },
  {
   "cell_type": "code",
   "execution_count": 31,
   "id": "58b66894",
   "metadata": {},
   "outputs": [
    {
     "name": "stdout",
     "output_type": "stream",
     "text": [
      "[1, 2, [5, 4]]\n",
      "[1, 2, [5, 4]]\n"
     ]
    }
   ],
   "source": [
    "import copy\n",
    "\n",
    "list1 = [1, 2, [3, 4]]\n",
    "list2 = copy.copy(list1)\n",
    "\n",
    "# Modify the nested list in list1\n",
    "list1[2][0] = 5\n",
    "\n",
    "print(list1)  # Output: [1, 2, [5, 4]]\n",
    "print(list2)  # Output: [1, 2, [5, 4]] (shared reference)"
   ]
  },
  {
   "cell_type": "code",
   "execution_count": 32,
   "id": "0be6ce83",
   "metadata": {},
   "outputs": [
    {
     "name": "stdout",
     "output_type": "stream",
     "text": [
      "[1, 2, [5, 4]]\n",
      "[1, 2, [3, 4]]\n"
     ]
    }
   ],
   "source": [
    "import copy\n",
    "\n",
    "list1 = [1, 2, [3, 4]]\n",
    "list2 = copy.deepcopy(list1)\n",
    "\n",
    "# Modify the nested list in list1\n",
    "list1[2][0] = 5\n",
    "\n",
    "print(list1)  # Output: [1, 2, [5, 4]]\n",
    "print(list2)  # Output: [1, 2, [3, 4]] (independent copy)"
   ]
  },
  {
   "cell_type": "code",
   "execution_count": null,
   "id": "29b4fa6f",
   "metadata": {},
   "outputs": [],
   "source": []
  }
 ],
 "metadata": {
  "kernelspec": {
   "display_name": "Python 3 (ipykernel)",
   "language": "python",
   "name": "python3"
  },
  "language_info": {
   "codemirror_mode": {
    "name": "ipython",
    "version": 3
   },
   "file_extension": ".py",
   "mimetype": "text/x-python",
   "name": "python",
   "nbconvert_exporter": "python",
   "pygments_lexer": "ipython3",
   "version": "3.10.9"
  }
 },
 "nbformat": 4,
 "nbformat_minor": 5
}
