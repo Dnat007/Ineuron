{
 "cells": [
  {
   "cell_type": "markdown",
   "id": "4cae0a4f",
   "metadata": {},
   "source": [
    "<b>1. What does an empty dictionary's code look like?</b><br>\n",
    "__Answer__:<br>\n",
    "Empty dictionay look like  '{}'"
   ]
  },
  {
   "cell_type": "code",
   "execution_count": 1,
   "id": "4ec02834",
   "metadata": {},
   "outputs": [
    {
     "data": {
      "text/plain": [
       "dict"
      ]
     },
     "execution_count": 1,
     "metadata": {},
     "output_type": "execute_result"
    }
   ],
   "source": [
    "abhi ={}\n",
    "type(abhi)"
   ]
  },
  {
   "cell_type": "markdown",
   "id": "ffc8f043",
   "metadata": {},
   "source": [
    "<b>2. What is the value of a dictionary value with the key 'foo' and the value 42?</b><br>\n",
    "__Answer__:\n",
    "value is 42 with key foo"
   ]
  },
  {
   "cell_type": "code",
   "execution_count": 2,
   "id": "c8d65271",
   "metadata": {},
   "outputs": [
    {
     "data": {
      "text/plain": [
       "42"
      ]
     },
     "execution_count": 2,
     "metadata": {},
     "output_type": "execute_result"
    }
   ],
   "source": [
    "abhi={'foo':42}\n",
    "abhi['foo']"
   ]
  },
  {
   "cell_type": "markdown",
   "id": "e63ee6fd",
   "metadata": {},
   "source": [
    "<b>3. What is the most significant distinction between a dictionary and a list?</b><br>\n",
    "__Answer__:<br>\n",
    "\n",
    "Dictionary contain key value pairs<br>\n",
    "list contain homogenous or hetrogenous items<br> \n",
    "list is order <br>\n",
    "Dictionary is unorder<br>"
   ]
  },
  {
   "cell_type": "markdown",
   "id": "6af446b5",
   "metadata": {},
   "source": [
    "<b>4. What happens if you try to access spam['foo'] if spam is {'bar': 100}?</b><br>\n",
    "__Answer__:<br>\n",
    "In this situation it will gave a error because foo key is not there in the dictionary of spam "
   ]
  },
  {
   "cell_type": "code",
   "execution_count": 3,
   "id": "63a66a03",
   "metadata": {},
   "outputs": [
    {
     "ename": "KeyError",
     "evalue": "'foo'",
     "output_type": "error",
     "traceback": [
      "\u001b[1;31m---------------------------------------------------------------------------\u001b[0m",
      "\u001b[1;31mKeyError\u001b[0m                                  Traceback (most recent call last)",
      "\u001b[1;32m~\\AppData\\Local\\Temp/ipykernel_22012/4026577702.py\u001b[0m in \u001b[0;36m<module>\u001b[1;34m\u001b[0m\n\u001b[0;32m      1\u001b[0m \u001b[0mspam\u001b[0m \u001b[1;33m=\u001b[0m \u001b[1;33m{\u001b[0m\u001b[1;34m'bar'\u001b[0m\u001b[1;33m:\u001b[0m\u001b[1;36m100\u001b[0m\u001b[1;33m}\u001b[0m\u001b[1;33m\u001b[0m\u001b[1;33m\u001b[0m\u001b[0m\n\u001b[1;32m----> 2\u001b[1;33m \u001b[0mspam\u001b[0m\u001b[1;33m[\u001b[0m\u001b[1;34m'foo'\u001b[0m\u001b[1;33m]\u001b[0m\u001b[1;33m\u001b[0m\u001b[1;33m\u001b[0m\u001b[0m\n\u001b[0m",
      "\u001b[1;31mKeyError\u001b[0m: 'foo'"
     ]
    }
   ],
   "source": [
    "spam = {'bar':100}\n",
    "spam['foo']"
   ]
  },
  {
   "cell_type": "markdown",
   "id": "9d21e6e2",
   "metadata": {},
   "source": [
    "<b>5. If a dictionary is stored in spam, what is the difference between the expressions 'cat' in spam and 'cat' in spam.keys()?</b><br>\n",
    "__Answer__:<br>\n",
    "There is no difference at all both will try to check that the key cat is available in the dictionary or not<br>"
   ]
  },
  {
   "cell_type": "code",
   "execution_count": 4,
   "id": "1453f797",
   "metadata": {},
   "outputs": [
    {
     "data": {
      "text/plain": [
       "True"
      ]
     },
     "execution_count": 4,
     "metadata": {},
     "output_type": "execute_result"
    }
   ],
   "source": [
    "spam = {'cat':100}\n",
    "'cat' in spam"
   ]
  },
  {
   "cell_type": "code",
   "execution_count": 5,
   "id": "2e58896f",
   "metadata": {},
   "outputs": [
    {
     "data": {
      "text/plain": [
       "True"
      ]
     },
     "execution_count": 5,
     "metadata": {},
     "output_type": "execute_result"
    }
   ],
   "source": [
    "'cat' in spam.keys()"
   ]
  },
  {
   "cell_type": "markdown",
   "id": "3cd5de7f",
   "metadata": {},
   "source": [
    "<b>6. If a dictionary is stored in spam, what is the difference between the expressions 'cat' in spam and 'cat' in spam.values()?</b><br>\n",
    "___Answer__:<br>\n",
    "Here it will gave error in one case because we can have cat as a key not as a value here    "
   ]
  },
  {
   "cell_type": "code",
   "execution_count": 7,
   "id": "aa4a1893",
   "metadata": {},
   "outputs": [
    {
     "name": "stdout",
     "output_type": "stream",
     "text": [
      "True\n"
     ]
    }
   ],
   "source": [
    "spam = {'cat':100}\n",
    "print('cat' in spam)"
   ]
  },
  {
   "cell_type": "code",
   "execution_count": 8,
   "id": "41c7c6cd",
   "metadata": {},
   "outputs": [
    {
     "name": "stdout",
     "output_type": "stream",
     "text": [
      "False\n"
     ]
    }
   ],
   "source": [
    "print('cat' in spam.values())"
   ]
  },
  {
   "cell_type": "markdown",
   "id": "9f2f79ff",
   "metadata": {},
   "source": [
    "<b>7. What is a shortcut for the following code? if 'color' not in spam: spam['color'] = 'black'</b><br>\n",
    "__Answer__:<br>"
   ]
  },
  {
   "cell_type": "code",
   "execution_count": 9,
   "id": "3fd99b5a",
   "metadata": {},
   "outputs": [
    {
     "name": "stdout",
     "output_type": "stream",
     "text": [
      "{'cat': 100, 'color': 'black'}\n",
      "{'cat': 100, 'color': 'black'}\n"
     ]
    }
   ],
   "source": [
    "# one way\n",
    "if 'color' not in spam:\n",
    "    spam['color'] = 'black'\n",
    "print(spam)  \n",
    "# another way\n",
    "spam.setdefault('color','black')\n",
    "print(spam)"
   ]
  },
  {
   "cell_type": "markdown",
   "id": "bbe04b86",
   "metadata": {},
   "source": [
    "<b>8. How do you \"pretty print\" dictionary values using which module and function?</b><br>\n",
    "__Answer__:<br>\n",
    "we can use pprint module<br>\n",
    "we can print values by pprint.pprint(dict)\n",
    "\n"
   ]
  },
  {
   "cell_type": "code",
   "execution_count": null,
   "id": "e0b0b441",
   "metadata": {},
   "outputs": [],
   "source": [
    "import pprint\n",
    "dct = [ {'Name': 'Abhishek', 'Age': '23', 'Country': 'India'},\n",
    "  {'Name': 'Anna', 'Age': '44', 'Country': 'China'},\n",
    "  {'Name': 'Joe', 'Age': '29', 'Country': 'UK'},\n",
    "  {'Name': 'Chumlee', 'Age': '35', 'Country': 'USA'}\n",
    "]\n",
    "     "
   ]
  },
  {
   "cell_type": "code",
   "execution_count": null,
   "id": "83fe5b87",
   "metadata": {},
   "outputs": [],
   "source": []
  }
 ],
 "metadata": {
  "kernelspec": {
   "display_name": "Python 3 (ipykernel)",
   "language": "python",
   "name": "python3"
  },
  "language_info": {
   "codemirror_mode": {
    "name": "ipython",
    "version": 3
   },
   "file_extension": ".py",
   "mimetype": "text/x-python",
   "name": "python",
   "nbconvert_exporter": "python",
   "pygments_lexer": "ipython3",
   "version": "3.9.7"
  }
 },
 "nbformat": 4,
 "nbformat_minor": 5
}
