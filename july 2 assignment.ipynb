{
 "cells": [
  {
   "cell_type": "markdown",
   "id": "51d26a1e",
   "metadata": {},
   "source": [
    "<b>1. Explain what inheritance is in object-oriented programming and why it is used.</br>"
   ]
  },
  {
   "cell_type": "markdown",
   "id": "d0bb4f32",
   "metadata": {},
   "source": [
    "<b>Answer</b><br>\n",
    "\n",
    "__Inheritance__: It is way by which child class can access or inherit the attributes and methods of another class<br>\n",
    "- Inheritance prevents data duplicity and redundancy.\n",
    "- Inheritance reduces space and time complexity"
   ]
  },
  {
   "cell_type": "code",
   "execution_count": 4,
   "id": "21800efe",
   "metadata": {},
   "outputs": [
    {
     "name": "stdout",
     "output_type": "stream",
     "text": [
      "Hello\n",
      "bye\n"
     ]
    }
   ],
   "source": [
    "# Eg: \n",
    "class A:\n",
    "    def greet(self):\n",
    "        print(\"Hello\")\n",
    "# here B is a child class \n",
    "# and A is a parent class\n",
    "# B inherit or B can acess the properties of A\n",
    "class B(A):\n",
    "    def bye(self):\n",
    "        print(\"bye\")\n",
    "boy=B()\n",
    "boy.greet()\n",
    "boy.bye()"
   ]
  },
  {
   "cell_type": "markdown",
   "id": "9796e5d6",
   "metadata": {},
   "source": [
    "<b>2. Discuss the concept of single inheritance and multiple inheritance, highlighting their\n",
    "differences and advantages.</br>\n"
   ]
  },
  {
   "cell_type": "markdown",
   "id": "0b3b8587",
   "metadata": {},
   "source": [
    "<b>Answer</b><br>\n",
    "__single inheritance__:Here the child class can derive only the property of one parent class<br>\n",
    "__multiple inheritance__:Here the child can access property of many parent class<br>"
   ]
  },
  {
   "cell_type": "code",
   "execution_count": 5,
   "id": "84f3fb0f",
   "metadata": {},
   "outputs": [],
   "source": [
    "# Example of single inheritance\n",
    "class A:\n",
    "    pass\n",
    "# here B class can only inherit property of A class\n",
    "class B(A):\n",
    "    pass\n",
    "\n",
    "# Example of multiple inheritance\n",
    "class X:\n",
    "    pass\n",
    "class Y:\n",
    "    pass\n",
    "# here the Z class inherit the property of X and Y class\n",
    "class Z(X,Y):\n",
    "    pass\n"
   ]
  },
  {
   "cell_type": "markdown",
   "id": "ecbfcf22",
   "metadata": {},
   "source": [
    "<b>3. Explain the terms \"base class\" and \"derived class\" in the context of inheritance.</br>\n"
   ]
  },
  {
   "cell_type": "markdown",
   "id": "1e518f1b",
   "metadata": {},
   "source": [
    "<b>Answer</b><br>\n",
    "__base class__: base class is nothing but whose properties (methods or attibute) are getting called in  another class<br>\n",
    "These are also called parent class<br>\n",
    "__derived class__: Derived class is that which inherit the properties of (parent) another class <br>\n",
    "These are also called as child class"
   ]
  },
  {
   "cell_type": "markdown",
   "id": "e5505c5e",
   "metadata": {},
   "source": [
    "<b>4. What is the significance of the \"protected\" access modifier in inheritance? How does it differ from \"private\" and \"public\" modifiers?\n"
   ]
  },
  {
   "cell_type": "markdown",
   "id": "c6e60ed9",
   "metadata": {},
   "source": [
    "<b>Answer</b><br>\n",
    "Actually in python there is no public , private or protected things like in java<br>\n",
    "__public__ : All those variable which we created normally are public variable<br>\n",
    "if we dont put any underscore before the variable name then it is a public variable<br>\n",
    "__protected__: If we put just a single underscore before a variable name then that will become the protected variable<br>\n",
    "When ever we created protected variabel then those variable of a class can be accessed within the class and the classes derived from that class <br>\n",
    "__private__: If we put double underscore before a variable name then that will become the private variable<br>\n",
    "Private variables are those which can only be seen and accessed by members of the class to which they belong, not by members of any other class"
   ]
  },
  {
   "cell_type": "code",
   "execution_count": 7,
   "id": "0f4dbfe1",
   "metadata": {},
   "outputs": [],
   "source": [
    "# Eg\n",
    "# public variable\n",
    "abhi = 10 \n",
    "# private variabe\n",
    "__abhi1 = 20\n",
    "# protected variable\n",
    "_abhi2 = 30"
   ]
  },
  {
   "cell_type": "markdown",
   "id": "2b9d8f3b",
   "metadata": {},
   "source": [
    "<b>5. What is the purpose of the \"super\" keyword in inheritance? Provide an example."
   ]
  },
  {
   "cell_type": "markdown",
   "id": "b7d4996b",
   "metadata": {},
   "source": [
    "<b>Answer</b><br>\n",
    "A method from a parent class can be called in python using the super() function<br>\n",
    "It enable method overriding and inheritance<br>\n",
    "It is very useful when we have same method name but both of them performing different task then it that time superkeyword is used it can tell us that we have to use that parent class method"
   ]
  },
  {
   "cell_type": "code",
   "execution_count": 18,
   "id": "75f7aa89",
   "metadata": {},
   "outputs": [
    {
     "name": "stdout",
     "output_type": "stream",
     "text": [
      "child clas h ye\n",
      "parent class h ye\n"
     ]
    }
   ],
   "source": [
    "# Eg:\n",
    "class A:\n",
    "    def hello(self):\n",
    "        print(\"parent class h ye\")\n",
    "class B(A):\n",
    "    def by(self):\n",
    "        print(\"I m going to delhi\")\n",
    "    def hello(self):\n",
    "        print(\"child clas h ye\")\n",
    "        super().hello()\n",
    "obj = B()\n",
    "obj.hello()"
   ]
  },
  {
   "cell_type": "markdown",
   "id": "fcbfba0f",
   "metadata": {},
   "source": [
    "<b>6. Create a base class called \"Vehicle\" with attributes like \"make\", \"model\", and \"year\".Then, create a derived class called \"Car\" that inherits from \"Vehicle\" and adds an attribute called \"fuel_type\". Implement appropriate methods in both classes.\n"
   ]
  },
  {
   "cell_type": "code",
   "execution_count": 38,
   "id": "6acbae18",
   "metadata": {},
   "outputs": [
    {
     "name": "stdout",
     "output_type": "stream",
     "text": [
      "India BMW 20365 Hydro\n"
     ]
    }
   ],
   "source": [
    "class Vehicle:\n",
    "    def __init__(self,make,model,year):\n",
    "        self.make = make\n",
    "        self.model = model\n",
    "        self.year = year\n",
    "\n",
    "class Car(Vehicle):\n",
    "    def __init__(self,make,model,year,fuel_type):\n",
    "        super().__init__(make,model,year)\n",
    "        self.fuel_type = fuel_type\n",
    "        \n",
    "\n",
    "obj = Car(\"India\",\"BMW\",20365,\"Hydro\")\n",
    "print(obj.make,\n",
    "obj.model,\n",
    "obj.year,\n",
    "obj.fuel_type)"
   ]
  },
  {
   "cell_type": "markdown",
   "id": "845c4e63",
   "metadata": {},
   "source": [
    "<b>7. Create a base class called \"Employee\" with attributes like \"name\" and \"salary.\" Derive two classes, \"Manager\" and \"Developer,\" from \"Employee.\" Add an additional attribute called \"department\" for the \"Manager\" class and \"programming_language\" for the \"Developer\" class.\n"
   ]
  },
  {
   "cell_type": "code",
   "execution_count": 50,
   "id": "147af026",
   "metadata": {},
   "outputs": [
    {
     "name": "stdout",
     "output_type": "stream",
     "text": [
      "Abhishek works in DS\n",
      "Abhishek knowss python \n"
     ]
    }
   ],
   "source": [
    "class Employee:\n",
    "    def __init__(self,name,salary):\n",
    "        self.name = name\n",
    "        self.salary = salary\n",
    "\n",
    "class Manager(Employee):\n",
    "    def department(self,department):\n",
    "        print(f\"{self.name} works in {department}\")\n",
    "\n",
    "class Developer(Employee):\n",
    "    def programming_language(self,language):\n",
    "        print(f\"{self.name} knowss {language} \")\n",
    "        \n",
    "abhi = Manager(\"Abhishek\",1000000)\n",
    "abhi.department(\"DS\")\n",
    "abhishek = Developer(\"Abhishek\",1000000)\n",
    "abhishek.programming_language(\"python\")"
   ]
  },
  {
   "cell_type": "markdown",
   "id": "a29c7985",
   "metadata": {},
   "source": [
    "<b>8. Design a base class called \"Shape\" with attributes like \"colour\" and \"border_width.\" Create derived classes, \"Rectangle\" and \"Circle,\" that inherit from \"Shape\" and add specific attributes like \"length\" and \"width\" for the \"Rectangle\" class and \"radius\" for the \"Circle\" class.\n",
    " "
   ]
  },
  {
   "cell_type": "code",
   "execution_count": 51,
   "id": "e0e631b3",
   "metadata": {},
   "outputs": [
    {
     "name": "stdout",
     "output_type": "stream",
     "text": [
      "area of rectangle is 30\n",
      "area of rectangle is 78.5\n"
     ]
    }
   ],
   "source": [
    "class Shape:\n",
    "    def __init__(self,colour,border_width):\n",
    "        self.colour = colour\n",
    "        self.border_width = border_width\n",
    "class Rectangle(Shape):\n",
    "    def area(self,length,width):\n",
    "        area = length*width\n",
    "        print(f\"area of rectangle is {area}\")\n",
    "class Circle(Shape):\n",
    "    def area(self,radius):\n",
    "        area = 3.14*radius**2\n",
    "        print(f\"area of rectangle is {area}\")\n",
    "        \n",
    "shape_r = Rectangle(\"red\",\"5\")\n",
    "shape_r.area(5,6)\n",
    "\n",
    "shape_c = Circle(\"red\",\"5\")\n",
    "shape_c.area(5)"
   ]
  },
  {
   "cell_type": "markdown",
   "id": "ede0a262",
   "metadata": {},
   "source": [
    "<b>9. Create a base class called \"Device\" with attributes like \"brand\" and \"model.\" Derive two classes, \"Phone\" and \"Tablet,\" from \"Device.\" Add specific attributes like \"screen_size\" for the \"Phone\" class and \"battery_capacity\" for the \"Tablet\" class."
   ]
  },
  {
   "cell_type": "code",
   "execution_count": 53,
   "id": "a11ccc38",
   "metadata": {},
   "outputs": [
    {
     "name": "stdout",
     "output_type": "stream",
     "text": [
      "screen size of phone is 5.5 inches\n",
      "the battrey size of tablet is 15000 Mhz\n"
     ]
    }
   ],
   "source": [
    "class Device:\n",
    "    def __init__(self,brand, model):\n",
    "        self.brand = brand\n",
    "        self.model = model\n",
    "\n",
    "class Phone(Device):\n",
    "    def screen_size(self,size):\n",
    "        print(f\"screen size of phone is {size} inches\")\n",
    "class Tablet(Device):\n",
    "    def battrey_capacity(self,MHz):\n",
    "        print(f\"the battrey size of tablet is {MHz} Mhz\")\n",
    "\n",
    "phone = Phone(\"redmi\",\"note 10\")\n",
    "phone.screen_size(5.5)\n",
    "\n",
    "Tablet = Tablet(\"Samsung\",\"S22\")\n",
    "Tablet.battrey_capacity(15000)"
   ]
  },
  {
   "cell_type": "markdown",
   "id": "87fecd80",
   "metadata": {},
   "source": [
    "<b>10. Create a base class called \"BankAccount\" with attributes like \"account_number\" and \"balance.\" Derive two classes, \"SavingsAccount\" and \"CheckingAccount,\" from \"BankAccount.\" Add specific methods like \"calculate_interest\" for the \"SavingsAccount\" class and \"deduct_fees\" for the \"CheckingAccount\" class."
   ]
  },
  {
   "cell_type": "code",
   "execution_count": 43,
   "id": "fb072362",
   "metadata": {},
   "outputs": [
    {
     "name": "stdout",
     "output_type": "stream",
     "text": [
      "108.0\n",
      "128.0\n"
     ]
    }
   ],
   "source": [
    "class BankAccount:\n",
    "    def __init__(self,account_number,balance):\n",
    "        self.account_number = account_number\n",
    "        self.balance = balance\n",
    "    \n",
    "    def deposit(self,amount):\n",
    "        self.balance = self.balance+amount\n",
    "        print(self.balance)\n",
    "        \n",
    "    def withdraw(self,amount):\n",
    "        if self.balance > amount:\n",
    "            self.balance = self.balance-amount\n",
    "            print(self.balance)\n",
    "        else:\n",
    "            print(\"insufficient balance\")\n",
    "\n",
    "class SavingsAccount(BankAccount):\n",
    "    def calculate_interest(self, interset_rate):\n",
    "        interest = self.balance * interset_rate\n",
    "        self.deposit(interest)\n",
    "\n",
    "class CheckingAccount(BankAccount):\n",
    "    def deduct_fees(self, fee):\n",
    "        if self.balance >= fee:\n",
    "            self.balance -= fee\n",
    "        else:\n",
    "            print(\"Insufficient balance\")\n",
    "abhi = SavingsAccount(123456789,100)\n",
    "abhi.calculate_interest(0.08)\n",
    "abhi.deposit(20)"
   ]
  },
  {
   "cell_type": "code",
   "execution_count": null,
   "id": "5198bb77",
   "metadata": {},
   "outputs": [],
   "source": []
  },
  {
   "cell_type": "code",
   "execution_count": null,
   "id": "4c16af41",
   "metadata": {},
   "outputs": [],
   "source": []
  }
 ],
 "metadata": {
  "kernelspec": {
   "display_name": "Python 3 (ipykernel)",
   "language": "python",
   "name": "python3"
  },
  "language_info": {
   "codemirror_mode": {
    "name": "ipython",
    "version": 3
   },
   "file_extension": ".py",
   "mimetype": "text/x-python",
   "name": "python",
   "nbconvert_exporter": "python",
   "pygments_lexer": "ipython3",
   "version": "3.9.7"
  }
 },
 "nbformat": 4,
 "nbformat_minor": 5
}
