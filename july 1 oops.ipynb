{
 "cells": [
  {
   "cell_type": "markdown",
   "id": "f9246c03",
   "metadata": {},
   "source": [
    "<b> 1. What is the primary goal of Object-Oriented Programming (OOP)?<br>"
   ]
  },
  {
   "cell_type": "markdown",
   "id": "9f97dd6b",
   "metadata": {},
   "source": [
    "__Answer__ :<br> The primary goal of the oops concept is that to make the program easy to understand<br>\n",
    "         It is used to gave the program into a perfect structure where we can reuse that piece of code<br>\n",
    "         It avoid data loss<br>\n",
    "         we hold the entire data into single object<br>"
   ]
  },
  {
   "cell_type": "markdown",
   "id": "0b2dd03f",
   "metadata": {},
   "source": [
    "<b>2. What is an object in Python?"
   ]
  },
  {
   "cell_type": "markdown",
   "id": "bd9fdfae",
   "metadata": {},
   "source": [
    "__Answer__<br>\n",
    "Object are nothing but the instance of the class<br>\n",
    "They are used to access the property of the class<br>"
   ]
  },
  {
   "cell_type": "markdown",
   "id": "9d5303d5",
   "metadata": {},
   "source": [
    "<b>3. What is a class in Python?"
   ]
  },
  {
   "cell_type": "markdown",
   "id": "bbc044f8",
   "metadata": {},
   "source": [
    " __Answer__<br>\n",
    "A class is a blueprint for creating object"
   ]
  },
  {
   "cell_type": "markdown",
   "id": "571efe5b",
   "metadata": {},
   "source": [
    "<b>4. What are attributes and methods in a class?"
   ]
  },
  {
   "cell_type": "markdown",
   "id": "7e00d791",
   "metadata": {},
   "source": [
    " __Answer__<br>\n",
    "Attributes are the variables that belong to a class.<br>\n",
    "Any function define within the class is Method of that particular object<br>"
   ]
  },
  {
   "cell_type": "markdown",
   "id": "a14c2222",
   "metadata": {},
   "source": [
    "<b>5. What is the difference between class variables and instance variables in Python"
   ]
  },
  {
   "cell_type": "markdown",
   "id": "52ed523b",
   "metadata": {},
   "source": [
    "__Answer__<br>\n",
    "__class__ __variable__: are those variablr that are shared by all the instances of the class. They are define within the class but outside any methods or constructor\n",
    "__Instance__ __variable__:are those variable which are created inside any methods or by constructors"
   ]
  },
  {
   "cell_type": "code",
   "execution_count": 10,
   "id": "f2ae2e0a",
   "metadata": {},
   "outputs": [],
   "source": [
    "# Eg: \n",
    "class abhisehk:\n",
    "    name=\"abhihsek\"\n",
    "    def __init__(self,age):\n",
    "        self.age = age\n"
   ]
  },
  {
   "cell_type": "markdown",
   "id": "5dc69f79",
   "metadata": {},
   "source": [
    "Here the __name__ is the class variable and __age__ is the instance variabel"
   ]
  },
  {
   "cell_type": "markdown",
   "id": "02969f70",
   "metadata": {},
   "source": [
    "<b>6. What is the purpose of the self parameter in Python class methods?"
   ]
  },
  {
   "cell_type": "markdown",
   "id": "a9a3e4a9",
   "metadata": {},
   "source": [
    "__Answer__:<br>\n",
    "It is basically the first parameter of any method in the class and allow the variable to refer itself\n",
    "(it is basically a pointer to the class)\n"
   ]
  },
  {
   "cell_type": "markdown",
   "id": "611e3b6a",
   "metadata": {},
   "source": [
    "<b>7. For a library management system, you have to design the \"Book\" class with OOP principles in mind. The “Book” class will have following attributes:<br></b>\n",
    "a. title: Represents the title of the book.<br>\n",
    "b. author: Represents the author(s) of the book.<br>\n",
    "c. isbn: Represents the ISBN (International Standard Book Number) of the book.<br>\n",
    "d. publication_year: Represents the year of publication of the book.<br>\n",
    "e. available_copies: Represents the number of copies available for checkout.<br>\n",
    "The class will also include the following methods:<br>\n",
    "a. check_out(self): Decrements the available copies by one if there are copies available for checkout.<br>\n",
    "b. return_book(self): Increments the available copies by one when a book is returned.<br>\n",
    "c. display_book_info(self): Displays the information about the book, including its attributes and the number of available copies.<br>"
   ]
  },
  {
   "cell_type": "code",
   "execution_count": 30,
   "id": "0f9a840f",
   "metadata": {},
   "outputs": [
    {
     "name": "stdout",
     "output_type": "stream",
     "text": [
      "checkout has been done Remaing copies are 999\n",
      "Book return Remaing copies are 1000\n",
      "tille of book :  Ds\n",
      "Author of book :  Abhisek\n",
      "ISBN number is  123456789\n",
      "publication year 2024\n",
      "available copies 1000\n"
     ]
    }
   ],
   "source": [
    "class Book:\n",
    "    def __init__(self,title,author,ISBN,publication_year,available_copies):\n",
    "        self.title = title\n",
    "        self.author = author\n",
    "        self.ISBN = ISBN\n",
    "        self.publication_year = publication_year\n",
    "        self.available_copies = available_copies\n",
    "    \n",
    "    def checkout(self):\n",
    "        if self.available_copies > 0:\n",
    "            self.available_copies = self.available_copies-1\n",
    "            print(f\"checkout has been done Remaing copies are {self.available_copies}\")\n",
    "        else:\n",
    "            print(\"we dont have book now plz return some book first\")\n",
    "            \n",
    "    def return_book(self):\n",
    "        self.available_copies = self.available_copies+1\n",
    "        print(f\"Book return Remaing copies are {self.available_copies}\")\n",
    "    def display_book_info(self):\n",
    "        print(\"tille of book : \", self.title)\n",
    "        print(\"Author of book : \", self.author)        \n",
    "        print(\"ISBN number is \", self.ISBN)        \n",
    "        print(\"publication year\", self.publication_year)        \n",
    "        print(\"available copies\", self.available_copies)    \n",
    "\n",
    "obj = Book(\"Ds\",\"Abhisek\",\"123456789\",2024,1000)\n",
    "obj.checkout()\n",
    "\n",
    "obj.return_book()\n",
    "obj.display_book_info()"
   ]
  },
  {
   "cell_type": "markdown",
   "id": "fbc7151d",
   "metadata": {},
   "source": [
    "<b>8. For a ticket booking system, you have to design the \"Ticket\" class with OOP principles in mind. The “Ticket” class should have the following attributes:<br></b>\n",
    "a. __ticket_id__: Represents the unique identifier for the ticket.<br>\n",
    "b. __event_name__: Represents the name of the event.<br>\n",
    "c. __event_date__: Represents the date of the event.<br>\n",
    "d. __venue__: Represents the venue of the event.<br>\n",
    "e. __seat_number__: Represents the seat number associated with the ticket.<br>\n",
    "f. __price__: Represents the price of the ticket.<br>\n",
    "g. __is_reserved__: Represents the reservation status of the ticket.<br>\n",
    "The class also includes the following methods:<br>\n",
    "a. __reserve_ticket(self)__: Marks the ticket as reserved if it is not already reserved.<br>\n",
    "b. __cancel_reservation(self)__: Cancels the reservation of the ticket if it is already reserved.<br>\n",
    "c. __display_ticket_info__(self): Displays the information about the ticket, including its attributes and reservation status.<br>"
   ]
  },
  {
   "cell_type": "code",
   "execution_count": 26,
   "id": "8e8e8a52",
   "metadata": {},
   "outputs": [
    {
     "name": "stdout",
     "output_type": "stream",
     "text": [
      "ticket id 123456879\n",
      "event_name ABC\n",
      "event_date 12-8-2023\n",
      "venue DBC\n",
      "seat_number 15\n",
      "price 500\n",
      "is_reserved YES\n",
      "sorry your ticket is no reserved\n"
     ]
    }
   ],
   "source": [
    "class Ticket:\n",
    "    def __init__(self,ticket_id,event_name,event_date,venue,seat_number,price,is_reserved):\n",
    "        self.ticket_id = ticket_id\n",
    "        self.event_name = event_name\n",
    "        self.event_date = event_date\n",
    "        self.venue = venue\n",
    "        self.seat_number = seat_number\n",
    "        self.price = price\n",
    "        self.is_reserved = is_reserved\n",
    "    def reserve_ticket(self):\n",
    "        if self.is_reserved == \"Yes\":\n",
    "            print(\"your ticket is reserved  \\nEnjoy the day\")\n",
    "    \n",
    "    def cancel_reservation(self):\n",
    "        if self.is_reserved.lower() ==\"yes\":\n",
    "            self.is_reserved == \"NO\"\n",
    "            print(\"sorry your ticket is no reserved\")\n",
    "    \n",
    "    def display_ticket_info(self):\n",
    "        print(\"ticket id\", self.ticket_id)\n",
    "        print(\"event_name\", self.event_name)        \n",
    "        print(\"event_date\", self.event_date)        \n",
    "        print(\"venue\", self.venue)        \n",
    "        print(\"seat_number\", self.seat_number)        \n",
    "        print(\"price\", self.price)   \n",
    "        print(\"is_reserved\", self.is_reserved)      \n",
    "obj = Ticket(123456879,\"ABC\",\"12-8-2023\",\"DBC\",15,500,\"YES\")\n",
    "obj.display_ticket_info()\n",
    "obj.cancel_reservation()"
   ]
  },
  {
   "cell_type": "markdown",
   "id": "c9f48424",
   "metadata": {},
   "source": [
    "<b>9. You are creating a shopping cart for an e-commerce website. Using OOP to model the \"ShoppingCart\" functionality the class should contain following attributes and methods:</b><br>\n",
    "a. __items__: Represents the list of items in the shopping cart.<br>\n",
    "The class also includes the following methods:<br>\n",
    "a. add_item(self, item): Adds an item to the shopping cart by appending it to the list of items.<br>\n",
    "b. remove_item(self, item): Removes an item from the shopping cart if it exists in the list.<br>\n",
    "c. view_cart(self): Displays the items currently present in the shopping cart.<br>\n",
    "d. clear_cart(self): Clears all items from the shopping cart by reassigning an empty list to the items attribute.<br>"
   ]
  },
  {
   "cell_type": "code",
   "execution_count": 13,
   "id": "ce8c1027",
   "metadata": {},
   "outputs": [],
   "source": [
    "class ShoopingCart:\n",
    "    items = ['biscuit','namkeen','Chips','sauce','bedsheet','shoes','Blanket']\n",
    "    def add_item(self,item_add):\n",
    "        if (len(self.items)==0):\n",
    "            print(\"bucket list is empty \\nplease fill some items\")\n",
    "        else:\n",
    "            self.items.append(item_add)\n",
    "            print(\"item added successfully  !!!\")\n",
    "    def remove(self,item_remove):\n",
    "        if (len(self.items)==0):\n",
    "            print(\"bucket list is empty \\nplease fill some items\")\n",
    "        else:\n",
    "            if item_remove in self.items:\n",
    "                self.items.remove(item_remove)\n",
    "                print(f\"{item_remove} is remove from the bucket list\")\n",
    "            else:\n",
    "                print(\"The item you gave is not available in the bucket list\")\n",
    "    def view(self):\n",
    "        if (len(self.items)==0):\n",
    "            print(\"bucket list is empty \\nplease fill some items\")\n",
    "        else:\n",
    "            print(self.items)\n",
    "    def clear(self):\n",
    "        self.items.clear()\n",
    "        print(\"Bucket list is empty\")"
   ]
  },
  {
   "cell_type": "code",
   "execution_count": 14,
   "id": "43ca86cd",
   "metadata": {},
   "outputs": [
    {
     "name": "stdout",
     "output_type": "stream",
     "text": [
      "item added successfully  !!!\n"
     ]
    }
   ],
   "source": [
    "shop = ShoopingCart()\n",
    "shop.add_item('book')"
   ]
  },
  {
   "cell_type": "code",
   "execution_count": 15,
   "id": "0b859ecc",
   "metadata": {},
   "outputs": [],
   "source": [
    "# shop.remove(\"shoes\")\n",
    "# shop.remove(\"abi\")"
   ]
  },
  {
   "cell_type": "code",
   "execution_count": 16,
   "id": "9315e748",
   "metadata": {},
   "outputs": [
    {
     "name": "stdout",
     "output_type": "stream",
     "text": [
      "['biscuit', 'namkeen', 'Chips', 'sauce', 'bedsheet', 'shoes', 'Blanket', 'book']\n"
     ]
    }
   ],
   "source": [
    "shop.view()"
   ]
  },
  {
   "cell_type": "markdown",
   "id": "d40388d8",
   "metadata": {},
   "source": [
    "<b>10. Imagine a school management system. You have to design the \"Student\" class using OOP concepts.The “Student” class has the following attributes:<br></b>\n",
    "a. __name__: Represents the name of the student.<br>\n",
    "b. __age__: Represents the age of the student.<br>\n",
    "c. __grade__: Represents the grade or class of the student.<br>\n",
    "d. __student_id__: Represents the unique identifier for the student.<br>\n",
    "e. __attendance__: Represents the attendance record of the student.<br>\n",
    "The class should also include the following methods:<br>\n",
    "a. __update_attendance(self, date, status)__: Updates the attendance record of the student for a given date with the provided status (e.g., present or absent).<br>\n",
    "b. __get_attendance(self)__: Returns the attendance record of the student.<br>\n",
    "c. __get_average_attendance(self)__: Calculates and returns the average attendance percentage of the student based on their attendance record.<br>"
   ]
  },
  {
   "cell_type": "code",
   "execution_count": 46,
   "id": "f1e7e8d8",
   "metadata": {},
   "outputs": [
    {
     "name": "stdout",
     "output_type": "stream",
     "text": [
      "update some attandance first\n"
     ]
    }
   ],
   "source": [
    "class Student:\n",
    "    def __init__(self,name,age,grade,student_id):\n",
    "        self.name = name\n",
    "        self.age = age\n",
    "        self.grade = grade\n",
    "        self.student_id = student_id\n",
    "#         attendance should be in dictionary becasue we have to update the attendance with respect to the date\n",
    "        self.attendance = {}\n",
    "    def update_attendance(self, date, status):\n",
    "        self.attendance[date] = status.upper()\n",
    "    def get_attendance(self):\n",
    "        if len(self.attendance) == 0:\n",
    "            print(\"update some attandance first\")\n",
    "        else:\n",
    "            c=0\n",
    "            for i in self.attendance.values():\n",
    "                if i ==\"P\":\n",
    "                    c = c+1\n",
    "                \n",
    "            return f\"total no of {self.name} attandance is {c}\"\n",
    "    def get_average_attendance(self):\n",
    "        total = len(self.attendance)\n",
    "        days =0\n",
    "        for i in self.attendance.values():\n",
    "            if i.upper() == \"P\":\n",
    "                days = days+i\n",
    "        average = (days/total)*100\n",
    "        return average\n",
    "abhi = Student(\"abhishek\",15,\"A\",191500039)\n",
    "abhi.get_attendance()\n",
    "abhi.update_attendance(21,'P')\n",
    "abhi.update_attendance(22,'A')\n",
    "abhi.get_attendance()"
   ]
  },
  {
   "cell_type": "code",
   "execution_count": null,
   "id": "20a96d6a",
   "metadata": {},
   "outputs": [],
   "source": []
  }
 ],
 "metadata": {
  "kernelspec": {
   "display_name": "Python 3 (ipykernel)",
   "language": "python",
   "name": "python3"
  },
  "language_info": {
   "codemirror_mode": {
    "name": "ipython",
    "version": 3
   },
   "file_extension": ".py",
   "mimetype": "text/x-python",
   "name": "python",
   "nbconvert_exporter": "python",
   "pygments_lexer": "ipython3",
   "version": "3.9.7"
  }
 },
 "nbformat": 4,
 "nbformat_minor": 5
}
